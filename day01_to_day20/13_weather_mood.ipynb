{
 "cells": [
  {
   "cell_type": "markdown",
   "id": "c84f05b2",
   "metadata": {},
   "source": [
    "# 🌐 **Day 13: Multi-API Workflows — Chaining APIs Together**\n",
    "\n",
    "### 🔍 Title: *“From Location to Emotion — Weather-Inspired Quote Generator”*"
   ]
  },
  {
   "cell_type": "markdown",
   "id": "ce884a9f",
   "metadata": {},
   "source": [
    "---"
   ]
  },
  {
   "cell_type": "markdown",
   "id": "fc0059e9",
   "metadata": {},
   "source": [
    "## 📖 **Goal**\n",
    "\n",
    "Use **two different APIs**, combine their responses intelligently, and produce a final output that feels human-like."
   ]
  },
  {
   "cell_type": "markdown",
   "metadata": {},
   "source": [
    "## 🗺️ Project Prompt\n",
    "\n",
    "> 🧪 “You input a city name. Your app fetches the current weather, and based on that, recommends a quote that matches the mood of the weather.”\n",
    ">"
   ]
  },
  {
   "cell_type": "markdown",
   "id": "e5038b41",
   "metadata": {},
   "source": [
    "---"
   ]
  },
  {
   "cell_type": "markdown",
   "id": "f4382985",
   "metadata": {},
   "source": [
    "### 🔗 API 1: Weather API\n",
    "\n",
    "(Use the same OpenWeatherMap as Day 12)  \n",
    "https://api.openweathermap.org/data/2.5/weather\n",
    "\n",
    "Extract:\n",
    "\n",
    "- Temperature\n",
    "- Weather condition (e.g., Clear, Rain, Clouds)\n",
    "\n",
    "### 🔗 API 2: ZenQuotes API\n",
    "\n",
    "[Endpoint] → https://zenquotes.io/api/random\n",
    "\n",
    "This gives a random quote."
   ]
  },
  {
   "cell_type": "markdown",
   "id": "3ae4312f",
   "metadata": {},
   "source": [
    "---"
   ]
  },
  {
   "cell_type": "code",
   "execution_count": null,
   "id": "4756501f",
   "metadata": {},
   "outputs": [],
   "source": [
    "import json \n",
    "import requests\n",
    "import os \n",
    "from dotenv import load_dotenv\n",
    "load_dotenv()\n",
    "\n",
    "weather_url = 'https://api.openweathermap.org/data/2.5/weather'\n",
    "quote_url = 'https://zenquotes.io/api/random'\n",
    "\n",
    "api_key = os.getenv('OPEN_WEATHER_API_KEY')\n"
   ]
  },
  {
   "cell_type": "code",
   "execution_count": 13,
   "id": "bd7da8c0",
   "metadata": {},
   "outputs": [
    {
     "data": {
      "text/plain": [
       "'Clouds'"
      ]
     },
     "execution_count": 13,
     "metadata": {},
     "output_type": "execute_result"
    }
   ],
   "source": [
    "data['weather'][0]['main']\n",
    "# data['main']['temp']"
   ]
  },
  {
   "cell_type": "code",
   "execution_count": null,
   "id": "dcf56527",
   "metadata": {},
   "outputs": [],
   "source": [
    "weather_mood_cat = {\n",
    "    'Clear': 'Joyful',\n",
    "    'Sunny': 'Joyful',\n",
    "    'Rain': 'Melancholic',\n",
    "    'Snow': 'Peaceful',\n",
    "    'Clouds': 'Neutral',\n",
    "    'Storm': 'Tense'\n",
    "}\n",
    "\n",
    "def getmood(city):\n",
    "    \n",
    "    params = {\n",
    "        'appid' : api_key,\n",
    "        'units' : 'metric',\n",
    "        'q' : city\n",
    "    }\n",
    "    \n",
    "    response = requests.get(weather_url, params=params)\n",
    "    data = response.json()\n",
    "    \n",
    "    weather = data['weather'][0]['main']\n",
    "    temp = data['main']['temp']\n",
    "    \n",
    "    if weather in weather_mood_cat:\n",
    "        mood = weather_mood_cat[weather]\n",
    "    \n",
    "    mood_param = {\n",
    "        'mood': mood\n",
    "    }\n",
    "    quote_response = requests.get(quote_url, params=mood_param)\n",
    "    quote_data = quote_response.json()\n",
    "    quote = quote_data[0]['q']\n",
    "    \n",
    "    print(\"City :\", city)\n",
    "    print(f\"Weather : {weather}, {temp} °C\")\n",
    "    print(\"Mood :\", mood)\n",
    "    print(\"Quote :\", quote)"
   ]
  },
  {
   "cell_type": "code",
   "execution_count": 31,
   "id": "8506c8d8",
   "metadata": {},
   "outputs": [
    {
     "name": "stdout",
     "output_type": "stream",
     "text": [
      "City : Pune\n",
      "Weather : Clouds, 28.09 °C\n",
      "Mood : Neutral\n",
      "Quote : Give so much away people insist on paying you.\n"
     ]
    }
   ],
   "source": [
    "try:\n",
    "    city = input(\"Enter a city: \")\n",
    "    getmood(city) \n",
    "except Exception as e:\n",
    "    print(\"An error occurred:\", e)\n"
   ]
  },
  {
   "cell_type": "markdown",
   "id": "9e088c0f",
   "metadata": {},
   "source": [
    "---"
   ]
  },
  {
   "cell_type": "markdown",
   "id": "91c1d658",
   "metadata": {},
   "source": [
    "## 🧠 Analogies (to Understand API Chaining)\n",
    "\n",
    "- 🔌 Like plugging in extension cords: output from one device powers another.\n",
    "- 🍲 Cooking analogy:\n",
    "    1. **API 1** is your **ingredients** (weather info)\n",
    "    2. **API 2** is your **recipe** (which quote best suits the mood of the ingredients)\n",
    "- 🎭 Think of the weather as the “stage,” and the quote as the “actor” — you match them to create the right *scene*."
   ]
  },
  {
   "cell_type": "markdown",
   "id": "2595dcd6",
   "metadata": {},
   "source": [
    "## 🔚 Summary\n",
    "\n",
    "- **Skill Gained**: Combining APIs for contextual logic.\n",
    "- **Real-World Use**: Apps that adjust music, visuals, or quotes based on weather, time, or mood."
   ]
  }
 ],
 "metadata": {
  "kernelspec": {
   "display_name": "stack_lp (3.12.5)",
   "language": "python",
   "name": "python3"
  },
  "language_info": {
   "codemirror_mode": {
    "name": "ipython",
    "version": 3
   },
   "file_extension": ".py",
   "mimetype": "text/x-python",
   "name": "python",
   "nbconvert_exporter": "python",
   "pygments_lexer": "ipython3",
   "version": "3.12.5"
  }
 },
 "nbformat": 4,
 "nbformat_minor": 5
}
