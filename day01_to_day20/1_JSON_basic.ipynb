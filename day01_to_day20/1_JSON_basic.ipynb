{
 "cells": [
  {
   "cell_type": "markdown",
   "id": "89b230b9",
   "metadata": {},
   "source": [
    "# 📘 **Day 1: JSON Fundamentals**"
   ]
  },
  {
   "cell_type": "markdown",
   "id": "a8962b29",
   "metadata": {},
   "source": [
    "---"
   ]
  },
  {
   "cell_type": "markdown",
   "id": "4f220174",
   "metadata": {},
   "source": [
    "### 🔍 What is JSON?\n",
    "\n",
    "**JSON** stands for **JavaScript Object Notation**.\n",
    "\n",
    "It's a lightweight **data-interchange format** — meaning it helps systems *talk to each other* in a structured, readable way.\n",
    "\n",
    "### ✅ Why it matters:\n",
    "\n",
    "- Almost all APIs return data in JSON\n",
    "- It's the **language of modern data exchange**\n",
    "- Used in websites, mobile apps, backend systems, and data pipelines"
   ]
  },
  {
   "cell_type": "markdown",
   "id": "503b4d18",
   "metadata": {},
   "source": [
    "### **Why Use JSON?**\n",
    "\n",
    "There are several reasons why you should consider using JSON, the key reason being that JSON is independent of your system's programming language, despite being derived from JavaScript. Not only is JSON language-independent, but it also represents data that speaks common elements of many programming languages, effectively making it into a universal data representation understood by all systems.\n",
    "\n",
    "Other reasons include:\n",
    "\n",
    "- Readability – JSON is human-readable, given proper formatting.\n",
    "- Compactness – JSON data format doesn't use a complete markup structure, unlike XML.\n",
    "- It's easy to analyze into logical syntactic components, especially in JavaScript.\n",
    "- Countless JSON libraries are available for most programming languages."
   ]
  },
  {
   "cell_type": "markdown",
   "id": "fefac050",
   "metadata": {},
   "source": [
    "---"
   ]
  },
  {
   "cell_type": "markdown",
   "id": "649d7ebe",
   "metadata": {},
   "source": [
    "A JSON string can be stored in its own file, which is basically just a text file with an extension of `.json`, and a [MIME type](https://developer.mozilla.org/en-US/docs/Glossary/MIME_type) of `application/json`.\n",
    "\n",
    "### **MIME type**\n",
    "\n",
    "A **MIME type** (now properly called \"media type\", but also sometimes \"content type\") is a string sent along with a file indicating the type of the file (describing the content format, for example, a sound file might be labeled `audio/ogg`, or an image file `image/png`).\n",
    "\n",
    "It serves the same purpose as filename extensions traditionally do on Windows. The name originates from the [MIME](https://developer.mozilla.org/en-US/docs/Glossary/MIME) standard originally used in email.\n",
    "\n",
    "### **MIME**\n",
    "\n",
    "**MIME** (Multipurpose Internet Mail Extensions) is a standard to describe documents in other forms besides ASCII text, for example, audio, video, and images. Initially used for email attachments, it has become the de facto standard to define types of documents anywhere."
   ]
  },
  {
   "cell_type": "markdown",
   "id": "75a07fd4",
   "metadata": {},
   "source": [
    "---"
   ]
  },
  {
   "cell_type": "markdown",
   "id": "bab7b3f0",
   "metadata": {},
   "source": [
    "### 🧩 JSON Structure Breakdown:\n",
    "\n",
    "- `{}` → object (dictionary-like)\n",
    "- `[]` → array (list-like)\n",
    "- `\"key\": value` → key-value pairs"
   ]
  },
  {
   "cell_type": "markdown",
   "id": "cddfa1fc",
   "metadata": {},
   "source": [
    "---"
   ]
  },
  {
   "cell_type": "markdown",
   "id": "14f4da4d",
   "metadata": {},
   "source": [
    "### 🧠 JSON = Objects + Arrays + Values\n",
    "\n",
    "Here’s what a JSON looks like:\n",
    "\n",
    "```json\n",
    "{\n",
    "  \"squadName\": \"Super hero squad\",\n",
    "  \"homeTown\": \"Metro City\",\n",
    "  \"formed\": 2016,\n",
    "  \"secretBase\": \"Super tower\",\n",
    "  \"active\": true,\n",
    "  \"members\": [\n",
    "    {\n",
    "      \"name\": \"Molecule Man\",\n",
    "      \"age\": 29,\n",
    "      \"secretIdentity\": \"Dan Jukes\",\n",
    "      \"powers\": [\"Radiation resistance\", \"Turning tiny\", \"Radiation blast\"]\n",
    "    },\n",
    "    {\n",
    "      \"name\": \"Madame Uppercut\",\n",
    "      \"age\": 39,\n",
    "      \"secretIdentity\": \"Jane Wilson\",\n",
    "      \"powers\": [\n",
    "        \"Million tonne punch\",\n",
    "        \"Damage resistance\",\n",
    "        \"Superhuman reflexes\"\n",
    "      ]\n",
    "    },\n",
    "    {\n",
    "      \"name\": \"Eternal Flame\",\n",
    "      \"age\": 1000000,\n",
    "      \"secretIdentity\": \"Unknown\",\n",
    "      \"powers\": [\n",
    "        \"Immortality\",\n",
    "        \"Heat Immunity\",\n",
    "        \"Inferno\",\n",
    "        \"Teleportation\",\n",
    "        \"Interdimensional travel\"\n",
    "      ]\n",
    "    }\n",
    "  ]\n",
    "}\n",
    "```"
   ]
  },
  {
   "cell_type": "markdown",
   "id": "7ff2f9f5",
   "metadata": {},
   "source": [
    "---"
   ]
  },
  {
   "cell_type": "markdown",
   "id": "5d856da0",
   "metadata": {},
   "source": [
    "## 📌 Key Rules of JSON:\n",
    "\n",
    "| Rule | Example |\n",
    "| --- | --- |\n",
    "| Keys must be in quotes | ✅ `\"name\"` not `name` |\n",
    "| Strings must be in double quotes | ✅ `\"Aryan\"` not `'Aryan'` |\n",
    "| Can hold nested data | `{ \"profile\": { \"github\": \"...\" } }` |\n",
    "| Common types | `string`, `number`, `boolean`, `array`, `object`, `null` |\n",
    "\n",
    "### **Proper JSON Format**\n",
    "\n",
    "Using JSON doesn't require any JavaScript knowledge, though having such would only improve your understanding of JSON. And though the knowledge of JavaScript isn't necessary, following specific rules is:\n",
    "\n",
    "- Data is in name/value pairs\n",
    "- Data is separated by commas\n",
    "- Objects are encapsulated within the opening and closing curly brackets\n",
    "- An empty object can be represented by `{}`\n",
    "- Arrays are encapsulated within opening and closing square brackets\n",
    "- An empty array can be represented by `[]`\n",
    "- A member is represented by a key-value pair, contained in double quotes\n",
    "- Each member should have a unique key within an object structure\n",
    "- The value of a member must be contained in double quotes, if it's a string\n",
    "- Boolean values are represented using the `true` or `false` literals in lower case\n",
    "- Number values are represented using double-precision floating-point format and shouldn't have leading zeroes\n",
    "- \"Offensive\" characters in a string need to be escaped using the backslash character `\\`\n",
    "- Null values are represented by the `null` literal in lower case\n",
    "- Dates, and similar object types, aren't adequately supported and should be converted to strings\n",
    "- Each member of an object or array value must be followed by a comma, except for the last one\n",
    "- The standard extension for the JSON file is `'.json'`\n",
    "- The mime type for JSON files is `'application/json'`"
   ]
  },
  {
   "cell_type": "markdown",
   "id": "dd22008d",
   "metadata": {},
   "source": [
    "---"
   ]
  },
  {
   "cell_type": "markdown",
   "id": "41ba7735",
   "metadata": {},
   "source": [
    "### 🔧 Where you’ll see JSON:\n",
    "\n",
    "- APIs (`GET https://api.weather.com/data.json`)\n",
    "- Config files (`settings.json`)\n",
    "- Data storage (MongoDB, Firebase)\n",
    "- Web development (`fetch()`, React, etc.)"
   ]
  },
  {
   "cell_type": "markdown",
   "id": "1f7517f3",
   "metadata": {},
   "source": [
    "---"
   ]
  },
  {
   "attachments": {
    "image.png": {
     "image/png": "[encoded data removed]"
    }
   },
   "cell_type": "markdown",
   "id": "f26e9942",
   "metadata": {},
   "source": [
    "Task - \n",
    "\n",
    "![image.png](attachment:image.png)"
   ]
  },
  {
   "cell_type": "markdown",
   "id": "b48a4ca5",
   "metadata": {},
   "source": [
    "Credit -  \n",
    "https://jsonlint.com  \n",
    "https://developer.mozilla.org/en-US/docs/Learn_web_development/Core/Scripting/JSON"
   ]
  },
  {
   "cell_type": "markdown",
   "id": "361a84d6",
   "metadata": {},
   "source": []
  }
 ],
 "metadata": {
  "kernelspec": {
   "display_name": "stack_lp",
   "language": "python",
   "name": "python3"
  },
  "language_info": {
   "codemirror_mode": {
    "name": "ipython",
    "version": 3
   },
   "file_extension": ".py",
   "mimetype": "text/x-python",
   "name": "python",
   "nbconvert_exporter": "python",
   "pygments_lexer": "ipython3",
   "version": "3.12.5"
  }
 },
 "nbformat": 4,
 "nbformat_minor": 5
}
