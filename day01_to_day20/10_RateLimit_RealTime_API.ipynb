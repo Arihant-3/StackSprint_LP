{
 "cells": [
  {
   "cell_type": "markdown",
   "id": "f7a71ff5",
   "metadata": {},
   "source": [
    "# 📅 Day 10: **Rate Limiting + Real-Time APIs (Stocks, Crypto, etc.)**\n",
    "\n",
    "> Core Concept: Understand API rate limits, how to handle them, and how real-time APIs work for things like stocks, crypto, or weather.\n"
   ]
  },
  {
   "cell_type": "markdown",
   "id": "658df38d",
   "metadata": {},
   "source": [
    "---"
   ]
  },
  {
   "cell_type": "markdown",
   "id": "d2a556e2",
   "metadata": {},
   "source": [
    "## 🔍 Today's Learning\n",
    "\n",
    "| Concept | Description |\n",
    "| --- | --- |\n",
    "| ⏳ Rate Limiting | APIs limit how often you can make requests — to avoid overload |\n",
    "| ⚠ Handling Limit Errors | How to handle status codes like `429 Too Many Requests` |\n",
    "| ⌛ Retry Logic | Using `time.sleep()` or `Retry-After` headers |\n",
    "| 📈 Real-Time APIs | Stock price, crypto, or other fast-changing data |\n",
    "| 📊 Auto-refreshing | Basic techniques to re-fetch or update data periodically |"
   ]
  },
  {
   "cell_type": "markdown",
   "id": "94c719e8",
   "metadata": {},
   "source": [
    "## 🧠 Analogy:\n",
    "\n",
    "Think of API calls like tokens in an arcade 🎟️  \n",
    "You get a fixed number per minute/hour — if you overuse them, you have to **wait** or **buy more**."
   ]
  },
  {
   "cell_type": "markdown",
   "id": "557802c9",
   "metadata": {},
   "source": [
    "---"
   ]
  },
  {
   "cell_type": "markdown",
   "id": "cf48ecf1",
   "metadata": {},
   "source": [
    "## 🛠 Key API Response Headers You Should Know:\n",
    "\n",
    "```http\n",
    "X-RateLimit-Limit: 60\n",
    "X-RateLimit-Remaining: 58\n",
    "X-RateLimit-Reset: 1372700873\n",
    "\n",
    "```\n",
    "\n",
    "- `429` = Too Many Requests\n",
    "- `Retry-After` = How many seconds to wait"
   ]
  },
  {
   "cell_type": "markdown",
   "id": "25d8ad70",
   "metadata": {},
   "source": [
    "---"
   ]
  },
  {
   "cell_type": "markdown",
   "id": "a6248815",
   "metadata": {},
   "source": [
    "## 🔧 Python Example – Handle Rate Limit"
   ]
  },
  {
   "cell_type": "code",
   "execution_count": 1,
   "id": "a4eee8f6",
   "metadata": {},
   "outputs": [
    {
     "name": "stdout",
     "output_type": "stream",
     "text": [
      "Fetched: 3 repos\n"
     ]
    }
   ],
   "source": [
    "import requests\n",
    "import time\n",
    "\n",
    "url = \"https://api.github.com/users/the-coding-train/repos\"\n",
    "\n",
    "while True:\n",
    "    response = requests.get(url)\n",
    "    \n",
    "    if response.status_code == 429:\n",
    "        print(\"Rate Limiting Reached/Hit. Sleeping...\")\n",
    "        time.sleep(60)\n",
    "        continue\n",
    "    \n",
    "    data = response.json()\n",
    "    break\n",
    "\n",
    "print(\"Fetched:\", len(data), \"repos\")"
   ]
  },
  {
   "cell_type": "markdown",
   "id": "c8165545",
   "metadata": {},
   "source": [
    "---"
   ]
  },
  {
   "cell_type": "markdown",
   "id": "aa253981",
   "metadata": {},
   "source": [
    "## 🔄 Realtime APIs — Example"
   ]
  },
  {
   "cell_type": "markdown",
   "id": "d70f534d",
   "metadata": {},
   "source": [
    "### 🎯 Use this crypto API:\n",
    "\n",
    "```http\n",
    "https://api.coingecko.com/api/v3/simple/price?ids=bitcoin,ethereum&vs_currencies=usd\n",
    "\n",
    "```"
   ]
  },
  {
   "cell_type": "markdown",
   "id": "0d7f0013",
   "metadata": {},
   "source": [
    "🔁 Try updating it every 10 seconds."
   ]
  },
  {
   "cell_type": "code",
   "execution_count": 2,
   "id": "663f8c92",
   "metadata": {},
   "outputs": [
    {
     "name": "stdout",
     "output_type": "stream",
     "text": [
      "{'bitcoin': {'usd': 118970}, 'ethereum': {'usd': 3872.06}}\n",
      "{'bitcoin': {'usd': 118970}, 'ethereum': {'usd': 3872.06}}\n",
      "{'bitcoin': {'usd': 118970}, 'ethereum': {'usd': 3872.06}}\n",
      "{'bitcoin': {'usd': 118970}, 'ethereum': {'usd': 3872.06}}\n",
      "{'bitcoin': {'usd': 118970}, 'ethereum': {'usd': 3872.06}}\n",
      "Rate Limiting Reached/Hit. Sleeping...\n"
     ]
    }
   ],
   "source": [
    "import requests\n",
    "import time\n",
    "\n",
    "url = 'https://api.coingecko.com/api/v3/simple/price?ids=bitcoin,ethereum&vs_currencies=usd'\n",
    "\n",
    "while True:\n",
    "    res = requests.get(url)\n",
    "    \n",
    "    if res.status_code == 429:\n",
    "        print(\"Rate Limiting Reached/Hit. Sleeping...\")\n",
    "        time.sleep(10)\n",
    "        break\n",
    "    \n",
    "    print(res.json())\n",
    "    time.sleep(10)"
   ]
  },
  {
   "cell_type": "markdown",
   "id": "e8d26a64",
   "metadata": {},
   "source": [
    "---"
   ]
  },
  {
   "cell_type": "markdown",
   "id": "70843331",
   "metadata": {},
   "source": [
    "### Task :"
   ]
  },
  {
   "cell_type": "code",
   "execution_count": null,
   "id": "ebf02b15",
   "metadata": {},
   "outputs": [
    {
     "name": "stdout",
     "output_type": "stream",
     "text": [
      "60\n",
      "32\n",
      "1753780256.0\n"
     ]
    },
    {
     "data": {
      "text/plain": [
       "'2025-07-29 14:40:56'"
      ]
     },
     "execution_count": 41,
     "metadata": {},
     "output_type": "execute_result"
    }
   ],
   "source": [
    "url = 'https://api.github.com/users/octocat'\n",
    "\n",
    "response = requests.get(url)\n",
    "\n",
    "print(response.headers['X-RateLimit-Limit'])\n",
    "print(response.headers['X-RateLimit-Remaining'])\n",
    "\n",
    "\n",
    "real_time = float(response.headers['X-RateLimit-Reset'])\n",
    "print(real_time)\n",
    "time.strftime(\"%Y-%m-%d %H:%M:%S\",time.localtime(real_time))\n",
    "\n",
    "# Use time.gmtime(timestamp) instead of localtime() if you want UTC instead of local time."
   ]
  },
  {
   "cell_type": "code",
   "execution_count": 47,
   "id": "2be57daa",
   "metadata": {},
   "outputs": [
    {
     "name": "stdout",
     "output_type": "stream",
     "text": [
      "2025-07-29 14:07:43\n",
      "bitcoin :  {'usd': 118869}\n",
      "ethereum :  {'usd': 3869.16}\n",
      "2025-07-29 14:07:53\n",
      "bitcoin :  {'usd': 118876}\n",
      "ethereum :  {'usd': 3870.7}\n",
      "2025-07-29 14:08:03\n",
      "bitcoin :  {'usd': 118876}\n",
      "ethereum :  {'usd': 3870.7}\n",
      "2025-07-29 14:08:14\n",
      "bitcoin :  {'usd': 118876}\n",
      "ethereum :  {'usd': 3870.7}\n",
      "2025-07-29 14:08:24\n",
      "bitcoin :  {'usd': 118876}\n",
      "ethereum :  {'usd': 3870.7}\n",
      "2025-07-29 14:08:34\n",
      "bitcoin :  {'usd': 118876}\n",
      "ethereum :  {'usd': 3870.7}\n",
      "2025-07-29 14:08:44\n",
      "bitcoin :  {'usd': 118876}\n",
      "ethereum :  {'usd': 3870.7}\n",
      "Rate Limiting Reached/Hit. Sleeping...\n"
     ]
    }
   ],
   "source": [
    "import requests\n",
    "import time\n",
    "\n",
    "url = 'https://api.coingecko.com/api/v3/simple/price?ids=bitcoin,ethereum&vs_currencies=usd'\n",
    "\n",
    "while True:\n",
    "    res = requests.get(url)\n",
    "    \n",
    "    if res.status_code == 429:\n",
    "        print(\"Rate Limiting Reached/Hit. Sleeping...\")\n",
    "        time.sleep(10)\n",
    "        break\n",
    "    \n",
    "    data = res.json()\n",
    "\n",
    "    print(time.strftime(\"%Y-%m-%d %H:%M:%S\",time.localtime(time.time())))\n",
    "    print('bitcoin : ', data['bitcoin'])\n",
    "    print('ethereum : ', data['ethereum'])\n",
    "    time.sleep(10)"
   ]
  },
  {
   "cell_type": "code",
   "execution_count": 54,
   "id": "c6dd3f0e",
   "metadata": {},
   "outputs": [
    {
     "name": "stdout",
     "output_type": "stream",
     "text": [
      "Collecting BTC prices every 10 seconds...\n",
      "\n",
      "14:15:46 | BTC: $118927\n",
      "14:15:56 | BTC: $118927\n",
      "14:16:06 | BTC: $118927\n",
      "14:16:16 | BTC: $118927\n",
      "14:16:26 | BTC: $118927\n",
      "14:16:37 | BTC: $118927\n",
      "14:16:47 | BTC: $118930\n",
      "Rate limit hit. Sleeping for 60 seconds...\n",
      "14:17:58 | BTC: $118941\n",
      "14:18:08 | BTC: $118941\n",
      "14:18:18 | BTC: $118941\n",
      "14:18:28 | BTC: $118941\n",
      "14:18:38 | BTC: $118941\n",
      "14:18:48 | BTC: $118941\n",
      "14:18:59 | BTC: $118947\n",
      "Rate limit hit. Sleeping for 60 seconds...\n",
      "14:20:09 | BTC: $118953\n",
      "14:20:20 | BTC: $118953\n",
      "14:20:30 | BTC: $118953\n",
      "14:20:40 | BTC: $118953\n",
      "14:20:50 | BTC: $118953\n",
      "14:21:00 | BTC: $118953\n",
      "14:21:11 | BTC: $118953\n",
      "Rate limit hit. Sleeping for 60 seconds...\n",
      "14:22:21 | BTC: $118946\n",
      "14:22:31 | BTC: $118946\n",
      "14:22:41 | BTC: $118946\n",
      "14:22:51 | BTC: $118946\n",
      "14:23:02 | BTC: $118946\n",
      "14:23:12 | BTC: $118946\n"
     ]
    },
    {
     "data": {
      "image/png": "[encoded data removed]",
      "text/plain": [
       "<Figure size 1000x500 with 1 Axes>"
      ]
     },
     "metadata": {},
     "output_type": "display_data"
    }
   ],
   "source": [
    "import requests\n",
    "import time\n",
    "import matplotlib.pyplot as plt\n",
    "from datetime import datetime\n",
    "\n",
    "# Set the API URL\n",
    "url = 'https://api.coingecko.com/api/v3/simple/price?ids=bitcoin&vs_currencies=usd'\n",
    "\n",
    "# Number of data points and interval in seconds\n",
    "total_points = 30      # e.g., for ~5 minutes with 10 sec intervals\n",
    "interval = 10\n",
    "\n",
    "timestamps = []\n",
    "btc_prices = []\n",
    "\n",
    "print(f\"Collecting BTC prices every {interval} seconds...\\n\")\n",
    "\n",
    "for i in range(total_points):\n",
    "    try:\n",
    "        res = requests.get(url)\n",
    "        \n",
    "        if res.status_code == 429:\n",
    "            print(\"Rate limit hit. Sleeping for 60 seconds...\")\n",
    "            time.sleep(60)\n",
    "            continue\n",
    "        \n",
    "        data = res.json()\n",
    "        price = data['bitcoin']['usd']\n",
    "        current_time = datetime.now().strftime(\"%H:%M:%S\")\n",
    "\n",
    "        timestamps.append(current_time)\n",
    "        btc_prices.append(price)\n",
    "\n",
    "        print(f\"{current_time} | BTC: ${price}\")\n",
    "        time.sleep(interval)\n",
    "\n",
    "    except Exception as e:\n",
    "        print(\"Error:\", e)\n",
    "        time.sleep(interval)\n",
    "\n",
    "# Plot after collecting all data\n",
    "plt.figure(figsize=(10, 5))\n",
    "plt.plot(timestamps, btc_prices, marker='o', linestyle='-', color='orange')\n",
    "plt.title(\"Bitcoin Price Over Time\")\n",
    "plt.xlabel(\"Time\")\n",
    "plt.ylabel(\"BTC Price (USD)\")\n",
    "plt.xticks(rotation=45)\n",
    "plt.grid(True)\n",
    "plt.tight_layout()\n",
    "plt.show()\n"
   ]
  },
  {
   "cell_type": "code",
   "execution_count": null,
   "id": "b29bc545",
   "metadata": {},
   "outputs": [],
   "source": [
    "def make_request_with_retry(url, headers=None):\n",
    "    retries = 5\n",
    "    delay = 1\n",
    "\n",
    "    for attempt in range(retries):\n",
    "        response = requests.get(url, headers=headers)\n",
    "\n",
    "        if response.status_code == 200:\n",
    "            return response.json()\n",
    "\n",
    "        elif response.status_code == 429:\n",
    "            print(f\"[Retry {attempt+1}] Rate limit hit! Waiting...\")\n",
    "            retry_after = response.headers.get(\"Retry-After\")\n",
    "            wait_time = int(retry_after) if retry_after else delay\n",
    "            time.sleep(wait_time)\n",
    "            delay *= 2  # exponential\n",
    "\n",
    "        else:\n",
    "            print(\"Other error:\", response.status_code)\n",
    "            break\n",
    "\n",
    "    print(\"Failed after multiple retries.\")\n",
    "    return None\n"
   ]
  },
  {
   "cell_type": "markdown",
   "id": "5e4f241f",
   "metadata": {},
   "source": [
    "---"
   ]
  },
  {
   "cell_type": "markdown",
   "id": "d0e5496e",
   "metadata": {},
   "source": [
    "## 📝 Summary:\n",
    "\n",
    "| Skill | Practiced |\n",
    "| --- | --- |\n",
    "| ⏱ Rate limiting | Checked limits via headers |\n",
    "| 🧠 Retry logic | `time.sleep()` if 429 error |\n",
    "| 🔁 Real-time fetching | Periodic requests for updates |\n",
    "| 📈 Optional plotting | Visualize real-time price changes |"
   ]
  }
 ],
 "metadata": {
  "kernelspec": {
   "display_name": "stack_lp (3.12.5)",
   "language": "python",
   "name": "python3"
  },
  "language_info": {
   "codemirror_mode": {
    "name": "ipython",
    "version": 3
   },
   "file_extension": ".py",
   "mimetype": "text/x-python",
   "name": "python",
   "nbconvert_exporter": "python",
   "pygments_lexer": "ipython3",
   "version": "3.12.5"
  }
 },
 "nbformat": 4,
 "nbformat_minor": 5
}
