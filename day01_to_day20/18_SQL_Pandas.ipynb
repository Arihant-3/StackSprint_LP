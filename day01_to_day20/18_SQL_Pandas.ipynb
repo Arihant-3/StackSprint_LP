{
 "cells": [
  {
   "cell_type": "markdown",
   "id": "3fcf3d63",
   "metadata": {},
   "source": [
    "# 🔁 **Day 18: SQL Recap for API + Analysis Use**\n",
    "\n",
    "**Goal:** Revisit SQL in a way that strengthens your API data analysis and prepares you for projects like dashboards, filtering, and BigQuery usage."
   ]
  },
  {
   "cell_type": "markdown",
   "id": "e5950ffb",
   "metadata": {},
   "source": [
    "---"
   ]
  },
  {
   "cell_type": "markdown",
   "id": "89f991f7",
   "metadata": {},
   "source": [
    "## SQL You *Actually* Need in Real Life\n",
    "\n",
    "| Concept | SQL Syntax | API/Pandas Equivalent |\n",
    "| --- | --- | --- |\n",
    "| Select Columns | `SELECT name, age` | `df[['name', 'age']]` |\n",
    "| Filter Rows | `WHERE age > 25` | `df[df['age'] > 25]` |\n",
    "| Sort | `ORDER BY age DESC` | `df.sort_values(by='age', ascending=False)` |\n",
    "| Limit Results | `LIMIT 10` | `df.head(10)` |\n",
    "| Aggregate | `COUNT()`, `AVG()` | `df['col'].count()`, `mean()`, etc. |\n",
    "| Group & Count | `GROUP BY category` | `df.groupby('category').count()` |\n",
    "| Rename | `AS` | `df.rename(columns={'old': 'new'})` |"
   ]
  },
  {
   "cell_type": "markdown",
   "id": "1f1ab39c",
   "metadata": {},
   "source": [
    "---"
   ]
  },
  {
   "cell_type": "markdown",
   "id": "b694ad3b",
   "metadata": {},
   "source": [
    "## 🔍 Real-World API Use Case\n",
    "\n",
    "### 📰 You hit a News API and get 100 articles.\n",
    "\n",
    "How do you:\n",
    "\n",
    "- Filter for `\"India\"` + `\"Politics\"`?\n",
    "- Sort by `publishedAt`?\n",
    "- Count how many are from `\"NDTV\"`?\n",
    "\n",
    "✅ You apply SQL logic — via:\n",
    "\n",
    "- Query parameters in API: `?q=india&category=politics`\n",
    "- Pandas filtering after fetching: `df[df['source'] == 'NDTV']`"
   ]
  },
  {
   "cell_type": "markdown",
   "id": "76975120",
   "metadata": {},
   "source": [
    "---"
   ]
  },
  {
   "cell_type": "markdown",
   "id": "bc077bbf",
   "metadata": {},
   "source": [
    "## 🛠️ Hands-On Exercise\n",
    "\n",
    "Use this fake API data structure (simulate it as a `DataFrame`):"
   ]
  },
  {
   "cell_type": "code",
   "execution_count": 1,
   "id": "338e73b0",
   "metadata": {},
   "outputs": [],
   "source": [
    "import pandas as pd\n",
    "\n",
    "data = [\n",
    "    {\"title\": \"India election updates\", \"source\": \"NDTV\", \"category\": \"Politics\", \"published\": \"2025-08-01\"},\n",
    "    {\"title\": \"New AI model launched\", \"source\": \"TechCrunch\", \"category\": \"Technology\", \"published\": \"2025-08-03\"},\n",
    "    {\"title\": \"Sports highlights\", \"source\": \"ESPN\", \"category\": \"Sports\", \"published\": \"2025-08-02\"},\n",
    "    {\"title\": \"Parliament session highlights\", \"source\": \"NDTV\", \"category\": \"Politics\", \"published\": \"2025-08-01\"},\n",
    "]\n",
    "\n",
    "df = pd.DataFrame(data)\n"
   ]
  },
  {
   "cell_type": "markdown",
   "id": "1bc5bac3",
   "metadata": {},
   "source": [
    "### 🔧 Task:\n",
    "\n",
    "1. Show only articles from **NDTV**\n",
    "2. Count how many are in the **Politics** category\n",
    "3. Show top 2 most recent articles (`published` descending)\n",
    "4. Add a new column `tagline` = `\"CATEGORY - TITLE\"`"
   ]
  },
  {
   "cell_type": "code",
   "execution_count": 2,
   "id": "5a9470ac",
   "metadata": {},
   "outputs": [
    {
     "data": {
      "application/vnd.microsoft.datawrangler.viewer.v0+json": {
       "columns": [
        {
         "name": "index",
         "rawType": "int64",
         "type": "integer"
        },
        {
         "name": "title",
         "rawType": "object",
         "type": "string"
        },
        {
         "name": "source",
         "rawType": "object",
         "type": "string"
        },
        {
         "name": "category",
         "rawType": "object",
         "type": "string"
        },
        {
         "name": "published",
         "rawType": "object",
         "type": "string"
        }
       ],
       "ref": "3da37a16-1992-455b-86bd-8f810469fadc",
       "rows": [
        [
         "0",
         "India election updates",
         "NDTV",
         "Politics",
         "2025-08-01"
        ],
        [
         "1",
         "New AI model launched",
         "TechCrunch",
         "Technology",
         "2025-08-03"
        ],
        [
         "2",
         "Sports highlights",
         "ESPN",
         "Sports",
         "2025-08-02"
        ],
        [
         "3",
         "Parliament session highlights",
         "NDTV",
         "Politics",
         "2025-08-01"
        ]
       ],
       "shape": {
        "columns": 4,
        "rows": 4
       }
      },
      "text/html": [
       "<div>\n",
       "<style scoped>\n",
       "    .dataframe tbody tr th:only-of-type {\n",
       "        vertical-align: middle;\n",
       "    }\n",
       "\n",
       "    .dataframe tbody tr th {\n",
       "        vertical-align: top;\n",
       "    }\n",
       "\n",
       "    .dataframe thead th {\n",
       "        text-align: right;\n",
       "    }\n",
       "</style>\n",
       "<table border=\"1\" class=\"dataframe\">\n",
       "  <thead>\n",
       "    <tr style=\"text-align: right;\">\n",
       "      <th></th>\n",
       "      <th>title</th>\n",
       "      <th>source</th>\n",
       "      <th>category</th>\n",
       "      <th>published</th>\n",
       "    </tr>\n",
       "  </thead>\n",
       "  <tbody>\n",
       "    <tr>\n",
       "      <th>0</th>\n",
       "      <td>India election updates</td>\n",
       "      <td>NDTV</td>\n",
       "      <td>Politics</td>\n",
       "      <td>2025-08-01</td>\n",
       "    </tr>\n",
       "    <tr>\n",
       "      <th>1</th>\n",
       "      <td>New AI model launched</td>\n",
       "      <td>TechCrunch</td>\n",
       "      <td>Technology</td>\n",
       "      <td>2025-08-03</td>\n",
       "    </tr>\n",
       "    <tr>\n",
       "      <th>2</th>\n",
       "      <td>Sports highlights</td>\n",
       "      <td>ESPN</td>\n",
       "      <td>Sports</td>\n",
       "      <td>2025-08-02</td>\n",
       "    </tr>\n",
       "    <tr>\n",
       "      <th>3</th>\n",
       "      <td>Parliament session highlights</td>\n",
       "      <td>NDTV</td>\n",
       "      <td>Politics</td>\n",
       "      <td>2025-08-01</td>\n",
       "    </tr>\n",
       "  </tbody>\n",
       "</table>\n",
       "</div>"
      ],
      "text/plain": [
       "                           title      source    category   published\n",
       "0         India election updates        NDTV    Politics  2025-08-01\n",
       "1          New AI model launched  TechCrunch  Technology  2025-08-03\n",
       "2              Sports highlights        ESPN      Sports  2025-08-02\n",
       "3  Parliament session highlights        NDTV    Politics  2025-08-01"
      ]
     },
     "execution_count": 2,
     "metadata": {},
     "output_type": "execute_result"
    }
   ],
   "source": [
    "df.head()"
   ]
  },
  {
   "cell_type": "code",
   "execution_count": null,
   "id": "439c1d5d",
   "metadata": {},
   "outputs": [],
   "source": [
    "# 1.\n",
    "df[df['source']=='NDTV']\n",
    "df[['title','category']][df['source']=='NDTV'] # especially useful for focused views\n",
    "\n",
    "\n",
    "query1 = '''\n",
    "        SELECT title \n",
    "        FROM df\n",
    "        WHERE source = 'NDTV';\n",
    "'''"
   ]
  },
  {
   "cell_type": "code",
   "execution_count": null,
   "id": "1987efae",
   "metadata": {},
   "outputs": [],
   "source": [
    "# 2.\n",
    "df['category'][df['category']=='Politics'].value_counts()\n",
    "df[df['category']=='Politics'].shape[0]\n",
    "\n",
    "query2 = '''\n",
    "        SELECT count(category) AS count\n",
    "        FROM df\n",
    "        WHERE category = 'Politics';\n",
    "'''"
   ]
  },
  {
   "cell_type": "code",
   "execution_count": 42,
   "id": "96c7474a",
   "metadata": {},
   "outputs": [],
   "source": [
    "# 3.\n",
    "df.sort_values(by='published', ascending=False).head(2)\n",
    "\n",
    "query3 = '''\n",
    "        SELECT *\n",
    "        FROM df\n",
    "        ORDER BY published DESC\n",
    "        LIMIT 2;\n",
    "'''"
   ]
  },
  {
   "cell_type": "code",
   "execution_count": 45,
   "id": "9593b920",
   "metadata": {},
   "outputs": [],
   "source": [
    "# 4.\n",
    "df['tagline'] = df['category'] + \" - \" + df['title']\n",
    "df\n",
    "\n",
    "query4 = '''\n",
    "        SELECT *,\n",
    "        CONCAT(category, ' - ', title) AS tagline\n",
    "        FROM df;\n",
    "'''"
   ]
  },
  {
   "cell_type": "code",
   "execution_count": 47,
   "id": "310d4e60",
   "metadata": {},
   "outputs": [
    {
     "data": {
      "text/plain": [
       "<Axes: ylabel='count'>"
      ]
     },
     "execution_count": 47,
     "metadata": {},
     "output_type": "execute_result"
    },
    {
     "data": {
      "image/png": "[encoded data removed]",
      "text/plain": [
       "<Figure size 640x480 with 1 Axes>"
      ]
     },
     "metadata": {},
     "output_type": "display_data"
    }
   ],
   "source": [
    "df['category'].value_counts().plot.pie(autopct=\"%1.1f%%\")"
   ]
  },
  {
   "cell_type": "code",
   "execution_count": null,
   "id": "40868071",
   "metadata": {},
   "outputs": [],
   "source": []
  }
 ],
 "metadata": {
  "kernelspec": {
   "display_name": "stack_lp (3.12.5)",
   "language": "python",
   "name": "python3"
  },
  "language_info": {
   "codemirror_mode": {
    "name": "ipython",
    "version": 3
   },
   "file_extension": ".py",
   "mimetype": "text/x-python",
   "name": "python",
   "nbconvert_exporter": "python",
   "pygments_lexer": "ipython3",
   "version": "3.12.5"
  }
 },
 "nbformat": 4,
 "nbformat_minor": 5
}
