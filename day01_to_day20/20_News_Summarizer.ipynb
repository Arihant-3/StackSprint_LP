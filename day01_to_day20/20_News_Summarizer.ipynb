{
 "cells": [
  {
   "cell_type": "markdown",
   "id": "7fc48a8e",
   "metadata": {},
   "source": [
    "# 📰 Day 20: **News Summarizer App (API + NLP + Streamlit)**\n",
    "\n",
    "**Goal:** Fetch live news, summarize the articles, and display them in a clean Streamlit dashboard."
   ]
  },
  {
   "cell_type": "markdown",
   "id": "6209ad7f",
   "metadata": {},
   "source": [
    "---"
   ]
  },
  {
   "cell_type": "markdown",
   "id": "8f579695",
   "metadata": {},
   "source": [
    "## 🧠 Workflow Overview\n",
    "\n",
    "1. **User Input** → Country, Category, Keyword\n",
    "2. **Call News API** → Fetch JSON of articles\n",
    "3. **NLP Summarizer** → Condense content into 2–3 sentences\n",
    "4. **Display** → Streamlit table/cards with summaries"
   ]
  },
  {
   "cell_type": "markdown",
   "id": "77fba97e",
   "metadata": {},
   "source": [
    "---"
   ]
  },
  {
   "cell_type": "markdown",
   "id": "1ea94a17",
   "metadata": {},
   "source": [
    "## 🛠️ Step 1: Setup\n",
    "\n",
    "Get your **NewsAPI key** here → [https://newsapi.org](https://newsapi.org/)\n",
    "\n",
    "```bash\n",
    "pip install  transformers\n",
    "pip install torch\n",
    "```\n",
    "\n",
    "## 📄 Step 2: Python Script (news_app.py)\n"
   ]
  },
  {
   "cell_type": "markdown",
   "id": "041a43d2",
   "metadata": {},
   "source": [
    "---"
   ]
  },
  {
   "cell_type": "markdown",
   "id": "33aaf8e2",
   "metadata": {},
   "source": [
    "## 🧠 Notes & Tips:\n",
    "\n",
    "- **Model choice:** `facebook/bart-large-cnn` is good for summarization, but you can use `t5-small` for faster results.\n",
    "- **Performance:** For free-tier APIs, limit to top 5–10 articles.\n",
    "- **Fallback:** If article `content` is `None`, use `description` instead."
   ]
  },
  {
   "cell_type": "markdown",
   "id": "1f23d53f",
   "metadata": {},
   "source": [
    "---"
   ]
  },
  {
   "cell_type": "markdown",
   "id": "5d888b29",
   "metadata": {},
   "source": [
    "Rough -"
   ]
  },
  {
   "cell_type": "code",
   "execution_count": 1,
   "id": "3c64a64c",
   "metadata": {},
   "outputs": [],
   "source": [
    "from transformers import pipeline"
   ]
  },
  {
   "cell_type": "code",
   "execution_count": 2,
   "id": "3be12994",
   "metadata": {},
   "outputs": [
    {
     "name": "stderr",
     "output_type": "stream",
     "text": [
      "No model was supplied, defaulted to distilbert/distilbert-base-uncased-finetuned-sst-2-english and revision 714eb0f (https://huggingface.co/distilbert/distilbert-base-uncased-finetuned-sst-2-english).\n",
      "Using a pipeline without specifying a model name and revision in production is not recommended.\n",
      "Xet Storage is enabled for this repo, but the 'hf_xet' package is not installed. Falling back to regular HTTP download. For better performance, install the package with: `pip install huggingface_hub[hf_xet]` or `pip install hf_xet`\n"
     ]
    },
    {
     "data": {
      "application/vnd.jupyter.widget-view+json": {
       "model_id": "3ef667f05e144cdeaf559e68e41a34d1",
       "version_major": 2,
       "version_minor": 0
      },
      "text/plain": [
       "model.safetensors:   0%|          | 0.00/268M [00:00<?, ?B/s]"
      ]
     },
     "metadata": {},
     "output_type": "display_data"
    },
    {
     "name": "stderr",
     "output_type": "stream",
     "text": [
      "c:\\Users\\burnw\\Project\\StackSprint_LP\\stack_lp\\Lib\\site-packages\\huggingface_hub\\file_download.py:143: UserWarning: `huggingface_hub` cache-system uses symlinks by default to efficiently store duplicated files but your machine does not support them in C:\\Users\\burnw\\.cache\\huggingface\\hub\\models--distilbert--distilbert-base-uncased-finetuned-sst-2-english. Caching files will still work but in a degraded version that might require more space on your disk. This warning can be disabled by setting the `HF_HUB_DISABLE_SYMLINKS_WARNING` environment variable. For more details, see https://huggingface.co/docs/huggingface_hub/how-to-cache#limitations.\n",
      "To support symlinks on Windows, you either need to activate Developer Mode or to run Python as an administrator. In order to activate developer mode, see this article: https://docs.microsoft.com/en-us/windows/apps/get-started/enable-your-device-for-development\n",
      "  warnings.warn(message)\n"
     ]
    },
    {
     "data": {
      "application/vnd.jupyter.widget-view+json": {
       "model_id": "270f567baddf429198eadfa36cb06187",
       "version_major": 2,
       "version_minor": 0
      },
      "text/plain": [
       "tokenizer_config.json:   0%|          | 0.00/48.0 [00:00<?, ?B/s]"
      ]
     },
     "metadata": {},
     "output_type": "display_data"
    },
    {
     "data": {
      "application/vnd.jupyter.widget-view+json": {
       "model_id": "e8ceca0ba57d41a8a263e8ba12c70c9a",
       "version_major": 2,
       "version_minor": 0
      },
      "text/plain": [
       "vocab.txt: 0.00B [00:00, ?B/s]"
      ]
     },
     "metadata": {},
     "output_type": "display_data"
    },
    {
     "name": "stderr",
     "output_type": "stream",
     "text": [
      "Device set to use cpu\n"
     ]
    },
    {
     "data": {
      "text/plain": [
       "[{'label': 'POSITIVE', 'score': 0.9998743534088135},\n",
       " {'label': 'NEGATIVE', 'score': 0.9996669292449951}]"
      ]
     },
     "execution_count": 2,
     "metadata": {},
     "output_type": "execute_result"
    }
   ],
   "source": [
    "pipe = pipeline(\"text-classification\")\n",
    "pipe([\"This restaurant is awesome\", \"This restaurant is awful\"])"
   ]
  },
  {
   "cell_type": "code",
   "execution_count": 2,
   "id": "f3bffa73",
   "metadata": {},
   "outputs": [],
   "source": [
    "import requests\n",
    "import json"
   ]
  },
  {
   "cell_type": "code",
   "execution_count": 3,
   "id": "a36d3061",
   "metadata": {},
   "outputs": [
    {
     "name": "stdout",
     "output_type": "stream",
     "text": [
      "{\n",
      "    \"status\": \"ok\",\n",
      "    \"totalResults\": 8,\n",
      "    \"articles\": [\n",
      "        {\n",
      "            \"source\": {\n",
      "                \"id\": null,\n",
      "                \"name\": \"CNBC\"\n",
      "            },\n",
      "            \"author\": \"Fred Imbert\",\n",
      "            \"title\": \"Intel shares drop after Trump calls for CEO to resign immediately - CNBC\",\n",
      "            \"description\": \"Intel shares were under pressure Thursday after President Donald Trump called for the chipmaker's CEO to resign immediately.\",\n",
      "            \"url\": \"https://www.cnbc.com/2025/08/07/intel-ceo-trump-lip-bu-tan.html\",\n",
      "            \"urlToImage\": \"https://image.cnbcfm.com/api/v1/image/108138284-17459584162025-04-29t202259z_872793_rc2k7ea4m7ma_rtrmadp_0_intel-tech.jpeg?v=1745958734&w=1920&h=1080\",\n",
      "            \"publishedAt\": \"2025-08-07T11:53:53Z\",\n",
      "            \"content\": \"Intel shares slipped Thursday after President Donald Trump called for the chipmaker's CEO to resign immediately.\\r\\nIn a Truth Social post, Trump said Intel Chief Executive Lip-Bu Tan \\\"is highly CONFLI\\u2026 [+1782 chars]\"\n",
      "        },\n",
      "        {\n",
      "            \"source\": {\n",
      "                \"id\": \"axios\",\n",
      "                \"name\": \"Axios\"\n",
      "            },\n",
      "            \"author\": \"Avery Lotz\",\n",
      "            \"title\": \"Trump demands a new census that excludes unauthorized residents - Axios\",\n",
      "            \"description\": \"Trump, in a Thursday Truth Social post, called for a \\\"new and highly accurate\\\" census.\",\n",
      "            \"url\": \"https://www.axios.com/2025/08/07/trump-new-census-commerce-department\",\n",
      "            \"urlToImage\": \"https://images.axios.com/olmELkmJ_2IoQoZ735iiDQr45eY=/0x0:6000x3375/1366x768/2025/08/07/1754566816628.jpg\",\n",
      "            \"publishedAt\": \"2025-08-07T11:52:58Z\",\n",
      "            \"content\": \"Driving the news: Trump, in a Thursday Truth Social post, called for a \\\"new and highly accurate\\\" census \\\"based on modern day facts and figures and, importantly, using the results and information gain\\u2026 [+1849 chars]\"\n",
      "        },\n",
      "        {\n",
      "            \"source\": {\n",
      "                \"id\": null,\n",
      "                \"name\": \"NPR\"\n",
      "            },\n",
      "            \"author\": \"Charles Maynes\",\n",
      "            \"title\": \"Trump will meet with Putin to discuss the war in Ukraine, according to Russia - NPR\",\n",
      "            \"description\": \"A meeting between President Trump and Russian President Vladimir Putin could take place as soon as next week, according to the Kremlin. Putin said it could be hosted by the United Arab Emirates.\",\n",
      "            \"url\": \"https://www.npr.org/2025/08/06/nx-s1-5494335/putin-witkoff-trump-envoy-russia-ukraine-war\",\n",
      "            \"urlToImage\": \"https://npr.brightspotcdn.com/dims3/default/strip/false/crop/4911x2762+0+148/resize/1400/quality/100/format/jpeg/?url=http%3A%2F%2Fnpr-brightspot.s3.amazonaws.com%2Fee%2F42%2Fd22618884c6c9b6b379145f8d1fc%2Fap25218335971140.jpg\",\n",
      "            \"publishedAt\": \"2025-08-07T10:44:16Z\",\n",
      "            \"content\": \"President Trump and Russian President Vladimir Putin will meet in the coming days, according to a top Kremlin aide.\\r\\nThe meeting would mark the first summit between the leaders of the two countries s\\u2026 [+7228 chars]\"\n",
      "        },\n",
      "        {\n",
      "            \"source\": {\n",
      "                \"id\": null,\n",
      "                \"name\": \"Forbes\"\n",
      "            },\n",
      "            \"author\": \"Siladitya Ray\",\n",
      "            \"title\": \"\\u2018South Park\\u2019 Mocks Trump Administration Again\\u2014Targets Noem And Vance - Forbes\",\n",
      "            \"description\": \"The episode again portrayed Trump with comically small genitals and mocked two senior administration officials, Vice President JD Vance and DHS Secretary Kristi Noem.\",\n",
      "            \"url\": \"https://www.forbes.com/sites/siladityaray/2025/08/07/new-south-park-episode-skewers-trump-again-shows-kristi-noem-killing-puppies-and-toddler-sized-jd-vance/\",\n",
      "            \"urlToImage\": \"https://imageio.forbes.com/specials-images/imageserve/68947163be9b62b2c2e614be/0x0.jpg?format=jpg&crop=2706,1522,x0,y265,safe&height=900&width=1600&fit=bounds\",\n",
      "            \"publishedAt\": \"2025-08-07T10:33:00Z\",\n",
      "            \"content\": \"The second episode of the newest season of South Park continued to mock President Donald Trump and his administration, this time focusing on DHS Secretary Kristi Noemwho was depicted as killing puppi\\u2026 [+3602 chars]\"\n",
      "        },\n",
      "        {\n",
      "            \"source\": {\n",
      "                \"id\": null,\n",
      "                \"name\": \"CNBC\"\n",
      "            },\n",
      "            \"author\": \"Sriram Iyer, executive editor, CNBC-TV18\",\n",
      "            \"title\": \"India isn\\u2019t flinching: Why Trump might be misreading India\\u2019s tariff playbook - CNBC\",\n",
      "            \"description\": \"Washington may be mistaking India's complaisance for America's leverage.\",\n",
      "            \"url\": \"https://www.cnbc.com/2025/08/07/india-isnt-flinching-why-trump-might-be-misreading-indias-tariff-playbook.html\",\n",
      "            \"urlToImage\": \"https://image.cnbcfm.com/api/v1/image/108160998-1750254906648-gettyimages-2198756810-AFP_36XR7QX.jpeg?v=1754558860&w=1920&h=1080\",\n",
      "            \"publishedAt\": \"2025-08-07T09:58:49Z\",\n",
      "            \"content\": \"US President Donald Trump and Indian Prime Minister Narendra Modi hold a joint press conference in the East Room of the White House in Washington, DC, on February 13, 2025.\\r\\nIndia's stock market show\\u2026 [+7903 chars]\"\n",
      "        },\n",
      "        {\n",
      "            \"source\": {\n",
      "                \"id\": \"the-wall-street-journal\",\n",
      "                \"name\": \"The Wall Street Journal\"\n",
      "            },\n",
      "            \"author\": \"Gareth Vipers, WSJ Staff, P.R. Venkat, Stephen Wilmot, Nick Timiraos, Georgi Kantchev, Sherry Qin, Roshan Fernandez, Heard Editors\",\n",
      "            \"title\": \"Stock Market Today: S&P 500 Futures Rise as New Tariffs Kick In \\u2014 Live Updates \\u2014 Live Updates - The Wall Street Journal\",\n",
      "            \"description\": \"Trump\\u2019s tariffs, including new levies that took effect Thursday, are affecting global markets. Follow along for live updates on the Dow, S&P 500 and Nasdaq.\",\n",
      "            \"url\": \"https://www.wsj.com/livecoverage/stock-market-today-dow-sp500-nasdaq-tariff-deadline-08-07-2025\",\n",
      "            \"urlToImage\": \"https://images.wsj.net/im-34062673/social\",\n",
      "            \"publishedAt\": \"2025-08-07T09:27:00Z\",\n",
      "            \"content\": \"President Trumps sweeping levies kicked in on dozens of countries just after midnight, intensifying his trade war after months of extensions and geopolitical wrangling.\\r\\nBehind the scenes, negotiator\\u2026 [+1814 chars]\"\n",
      "        },\n",
      "        {\n",
      "            \"source\": {\n",
      "                \"id\": null,\n",
      "                \"name\": \"CNBC\"\n",
      "            },\n",
      "            \"author\": \"Sophie Kiderlin\",\n",
      "            \"title\": \"Trump's 'reciprocal' tariffs come into effect, hitting dozens of U.S. trading partners - CNBC\",\n",
      "            \"description\": \"Many of the U.S.' trading partners now face higher tariffs on their exports to the country.\",\n",
      "            \"url\": \"https://www.cnbc.com/2025/08/07/trumps-reciprocal-tariffs-come-into-effect-hitting-dozens-of-us-trading-partners.html\",\n",
      "            \"urlToImage\": \"https://image.cnbcfm.com/api/v1/image/108181661-1754399306431-gettyimages-2228105320-wmr51241_xugz3w6r.jpeg?v=1754399390&w=1920&h=1080\",\n",
      "            \"publishedAt\": \"2025-08-07T06:32:57Z\",\n",
      "            \"content\": \"U.S. President Donald Trump's so-called \\\"reciprocal\\\" tariffs took effect on Thursday, imposing higher duties on many of the country's trading partners' exports to the U.S.\\r\\n\\\"IT'S MIDNIGHT!!! BILLIONS\\u2026 [+2919 chars]\"\n",
      "        },\n",
      "        {\n",
      "            \"source\": {\n",
      "                \"id\": \"the-washington-post\",\n",
      "                \"name\": \"The Washington Post\"\n",
      "            },\n",
      "            \"author\": \"Olivia George\",\n",
      "            \"title\": \"Trump threatens to deploy National Guard in D.C., take over police department - The Washington Post\",\n",
      "            \"description\": \"Trump also said Congress should explore overturning the Home Rule Act. \\u201cThe lawyers are already studying it,\\u201d Trump said Wednesday.\",\n",
      "            \"url\": \"https://www.washingtonpost.com/dc-md-va/2025/08/06/trump-dc-takeover-national-guard-crime/\",\n",
      "            \"urlToImage\": \"https://www.washingtonpost.com/wp-apps/imrs.php?src=https://arc-anglerfish-washpost-prod-washpost.s3.amazonaws.com/public/KZP3LWYQDMGELTVKKXJ6SGTZ2E.JPG&w=1440\",\n",
      "            \"publishedAt\": \"2025-08-07T02:22:09Z\",\n",
      "            \"content\": \"President Donald Trump escalated his attacks on D.C.s right to self-governance Wednesday, saying he was considering federalizing the D.C. police department and bringing in the National Guard maybe ve\\u2026 [+4908 chars]\"\n",
      "        }\n",
      "    ]\n",
      "}\n"
     ]
    }
   ],
   "source": [
    "\n",
    "api_key = '3e6c34f3679c4a5083fb494d82778496'\n",
    "country = 'us'\n",
    "query = 'trump'\n",
    "\n",
    "url = f\"https://newsapi.org/v2/top-headlines?country={country}&q={query}&apiKey={api_key}\"\n",
    "\n",
    "response = requests.get(url)\n",
    "data = response.json()\n",
    "\n",
    "data_str = json.dumps(data, indent=4)\n",
    "print(data_str)"
   ]
  },
  {
   "cell_type": "code",
   "execution_count": 4,
   "id": "f055b5d5",
   "metadata": {},
   "outputs": [
    {
     "data": {
      "text/plain": [
       "[{'source': {'id': None, 'name': 'CNBC'},\n",
       "  'author': 'Fred Imbert',\n",
       "  'title': 'Intel shares drop after Trump calls for CEO to resign immediately - CNBC',\n",
       "  'description': \"Intel shares were under pressure Thursday after President Donald Trump called for the chipmaker's CEO to resign immediately.\",\n",
       "  'url': 'https://www.cnbc.com/2025/08/07/intel-ceo-trump-lip-bu-tan.html',\n",
       "  'urlToImage': 'https://image.cnbcfm.com/api/v1/image/108138284-17459584162025-04-29t202259z_872793_rc2k7ea4m7ma_rtrmadp_0_intel-tech.jpeg?v=1745958734&w=1920&h=1080',\n",
       "  'publishedAt': '2025-08-07T11:53:53Z',\n",
       "  'content': 'Intel shares slipped Thursday after President Donald Trump called for the chipmaker\\'s CEO to resign immediately.\\r\\nIn a Truth Social post, Trump said Intel Chief Executive Lip-Bu Tan \"is highly CONFLI… [+1782 chars]'},\n",
       " {'source': {'id': 'axios', 'name': 'Axios'},\n",
       "  'author': 'Avery Lotz',\n",
       "  'title': 'Trump demands a new census that excludes unauthorized residents - Axios',\n",
       "  'description': 'Trump, in a Thursday Truth Social post, called for a \"new and highly accurate\" census.',\n",
       "  'url': 'https://www.axios.com/2025/08/07/trump-new-census-commerce-department',\n",
       "  'urlToImage': 'https://images.axios.com/olmELkmJ_2IoQoZ735iiDQr45eY=/0x0:6000x3375/1366x768/2025/08/07/1754566816628.jpg',\n",
       "  'publishedAt': '2025-08-07T11:52:58Z',\n",
       "  'content': 'Driving the news: Trump, in a Thursday Truth Social post, called for a \"new and highly accurate\" census \"based on modern day facts and figures and, importantly, using the results and information gain… [+1849 chars]'},\n",
       " {'source': {'id': None, 'name': 'NPR'},\n",
       "  'author': 'Charles Maynes',\n",
       "  'title': 'Trump will meet with Putin to discuss the war in Ukraine, according to Russia - NPR',\n",
       "  'description': 'A meeting between President Trump and Russian President Vladimir Putin could take place as soon as next week, according to the Kremlin. Putin said it could be hosted by the United Arab Emirates.',\n",
       "  'url': 'https://www.npr.org/2025/08/06/nx-s1-5494335/putin-witkoff-trump-envoy-russia-ukraine-war',\n",
       "  'urlToImage': 'https://npr.brightspotcdn.com/dims3/default/strip/false/crop/4911x2762+0+148/resize/1400/quality/100/format/jpeg/?url=http%3A%2F%2Fnpr-brightspot.s3.amazonaws.com%2Fee%2F42%2Fd22618884c6c9b6b379145f8d1fc%2Fap25218335971140.jpg',\n",
       "  'publishedAt': '2025-08-07T10:44:16Z',\n",
       "  'content': 'President Trump and Russian President Vladimir Putin will meet in the coming days, according to a top Kremlin aide.\\r\\nThe meeting would mark the first summit between the leaders of the two countries s… [+7228 chars]'}]"
      ]
     },
     "execution_count": 4,
     "metadata": {},
     "output_type": "execute_result"
    }
   ],
   "source": [
    "data['articles'][:3]\n"
   ]
  },
  {
   "cell_type": "code",
   "execution_count": 5,
   "id": "ff5edcf0",
   "metadata": {},
   "outputs": [
    {
     "data": {
      "text/plain": [
       "'Trump demands a new census that excludes unauthorized residents - Axios'"
      ]
     },
     "execution_count": 5,
     "metadata": {},
     "output_type": "execute_result"
    }
   ],
   "source": [
    "data['articles'][1]['title']"
   ]
  },
  {
   "cell_type": "code",
   "execution_count": 6,
   "id": "9ddcaee9",
   "metadata": {},
   "outputs": [
    {
     "data": {
      "text/plain": [
       "214"
      ]
     },
     "execution_count": 6,
     "metadata": {},
     "output_type": "execute_result"
    }
   ],
   "source": [
    "len(data['articles'][1]['content'])"
   ]
  },
  {
   "cell_type": "code",
   "execution_count": null,
   "id": "8ce5ae0b",
   "metadata": {},
   "outputs": [],
   "source": [
    "csv_data = []\n",
    "csv_data.append(data)\n",
    "# Loop it"
   ]
  },
  {
   "cell_type": "code",
   "execution_count": 12,
   "id": "4e4e65d8",
   "metadata": {},
   "outputs": [
    {
     "data": {
      "application/vnd.microsoft.datawrangler.viewer.v0+json": {
       "columns": [
        {
         "name": "index",
         "rawType": "int64",
         "type": "integer"
        },
        {
         "name": "status",
         "rawType": "object",
         "type": "string"
        },
        {
         "name": "totalResults",
         "rawType": "int64",
         "type": "integer"
        },
        {
         "name": "articles",
         "rawType": "object",
         "type": "unknown"
        }
       ],
       "ref": "1de871b2-2421-4c32-b845-c12fd7e75e55",
       "rows": [
        [
         "0",
         "ok",
         "8",
         "[{'source': {'id': None, 'name': 'CNBC'}, 'author': 'Fred Imbert', 'title': 'Intel shares drop after Trump calls for CEO to resign immediately - CNBC', 'description': \"Intel shares were under pressure Thursday after President Donald Trump called for the chipmaker's CEO to resign immediately.\", 'url': 'https://www.cnbc.com/2025/08/07/intel-ceo-trump-lip-bu-tan.html', 'urlToImage': 'https://image.cnbcfm.com/api/v1/image/108138284-17459584162025-04-29t202259z_872793_rc2k7ea4m7ma_rtrmadp_0_intel-tech.jpeg?v=1745958734&w=1920&h=1080', 'publishedAt': '2025-08-07T11:53:53Z', 'content': 'Intel shares slipped Thursday after President Donald Trump called for the chipmaker\\'s CEO to resign immediately.\\r\\nIn a Truth Social post, Trump said Intel Chief Executive Lip-Bu Tan \"is highly CONFLI… [+1782 chars]'}, {'source': {'id': 'axios', 'name': 'Axios'}, 'author': 'Avery Lotz', 'title': 'Trump demands a new census that excludes unauthorized residents - Axios', 'description': 'Trump, in a Thursday Truth Social post, called for a \"new and highly accurate\" census.', 'url': 'https://www.axios.com/2025/08/07/trump-new-census-commerce-department', 'urlToImage': 'https://images.axios.com/olmELkmJ_2IoQoZ735iiDQr45eY=/0x0:6000x3375/1366x768/2025/08/07/1754566816628.jpg', 'publishedAt': '2025-08-07T11:52:58Z', 'content': 'Driving the news: Trump, in a Thursday Truth Social post, called for a \"new and highly accurate\" census \"based on modern day facts and figures and, importantly, using the results and information gain… [+1849 chars]'}, {'source': {'id': None, 'name': 'NPR'}, 'author': 'Charles Maynes', 'title': 'Trump will meet with Putin to discuss the war in Ukraine, according to Russia - NPR', 'description': 'A meeting between President Trump and Russian President Vladimir Putin could take place as soon as next week, according to the Kremlin. Putin said it could be hosted by the United Arab Emirates.', 'url': 'https://www.npr.org/2025/08/06/nx-s1-5494335/putin-witkoff-trump-envoy-russia-ukraine-war', 'urlToImage': 'https://npr.brightspotcdn.com/dims3/default/strip/false/crop/4911x2762+0+148/resize/1400/quality/100/format/jpeg/?url=http%3A%2F%2Fnpr-brightspot.s3.amazonaws.com%2Fee%2F42%2Fd22618884c6c9b6b379145f8d1fc%2Fap25218335971140.jpg', 'publishedAt': '2025-08-07T10:44:16Z', 'content': 'President Trump and Russian President Vladimir Putin will meet in the coming days, according to a top Kremlin aide.\\r\\nThe meeting would mark the first summit between the leaders of the two countries s… [+7228 chars]'}, {'source': {'id': None, 'name': 'Forbes'}, 'author': 'Siladitya Ray', 'title': '‘South Park’ Mocks Trump Administration Again—Targets Noem And Vance - Forbes', 'description': 'The episode again portrayed Trump with comically small genitals and mocked two senior administration officials, Vice President JD Vance and DHS Secretary Kristi Noem.', 'url': 'https://www.forbes.com/sites/siladityaray/2025/08/07/new-south-park-episode-skewers-trump-again-shows-kristi-noem-killing-puppies-and-toddler-sized-jd-vance/', 'urlToImage': 'https://imageio.forbes.com/specials-images/imageserve/68947163be9b62b2c2e614be/0x0.jpg?format=jpg&crop=2706,1522,x0,y265,safe&height=900&width=1600&fit=bounds', 'publishedAt': '2025-08-07T10:33:00Z', 'content': 'The second episode of the newest season of South Park continued to mock President Donald Trump and his administration, this time focusing on DHS Secretary Kristi Noemwho was depicted as killing puppi… [+3602 chars]'}, {'source': {'id': None, 'name': 'CNBC'}, 'author': 'Sriram Iyer, executive editor, CNBC-TV18', 'title': 'India isn’t flinching: Why Trump might be misreading India’s tariff playbook - CNBC', 'description': \"Washington may be mistaking India's complaisance for America's leverage.\", 'url': 'https://www.cnbc.com/2025/08/07/india-isnt-flinching-why-trump-might-be-misreading-indias-tariff-playbook.html', 'urlToImage': 'https://image.cnbcfm.com/api/v1/image/108160998-1750254906648-gettyimages-2198756810-AFP_36XR7QX.jpeg?v=1754558860&w=1920&h=1080', 'publishedAt': '2025-08-07T09:58:49Z', 'content': \"US President Donald Trump and Indian Prime Minister Narendra Modi hold a joint press conference in the East Room of the White House in Washington, DC, on February 13, 2025.\\r\\nIndia's stock market show… [+7903 chars]\"}, {'source': {'id': 'the-wall-street-journal', 'name': 'The Wall Street Journal'}, 'author': 'Gareth Vipers, WSJ Staff, P.R. Venkat, Stephen Wilmot, Nick Timiraos, Georgi Kantchev, Sherry Qin, Roshan Fernandez, Heard Editors', 'title': 'Stock Market Today: S&P 500 Futures Rise as New Tariffs Kick In — Live Updates — Live Updates - The Wall Street Journal', 'description': 'Trump’s tariffs, including new levies that took effect Thursday, are affecting global markets. Follow along for live updates on the Dow, S&P 500 and Nasdaq.', 'url': 'https://www.wsj.com/livecoverage/stock-market-today-dow-sp500-nasdaq-tariff-deadline-08-07-2025', 'urlToImage': 'https://images.wsj.net/im-34062673/social', 'publishedAt': '2025-08-07T09:27:00Z', 'content': 'President Trumps sweeping levies kicked in on dozens of countries just after midnight, intensifying his trade war after months of extensions and geopolitical wrangling.\\r\\nBehind the scenes, negotiator… [+1814 chars]'}, {'source': {'id': None, 'name': 'CNBC'}, 'author': 'Sophie Kiderlin', 'title': \"Trump's 'reciprocal' tariffs come into effect, hitting dozens of U.S. trading partners - CNBC\", 'description': \"Many of the U.S.' trading partners now face higher tariffs on their exports to the country.\", 'url': 'https://www.cnbc.com/2025/08/07/trumps-reciprocal-tariffs-come-into-effect-hitting-dozens-of-us-trading-partners.html', 'urlToImage': 'https://image.cnbcfm.com/api/v1/image/108181661-1754399306431-gettyimages-2228105320-wmr51241_xugz3w6r.jpeg?v=1754399390&w=1920&h=1080', 'publishedAt': '2025-08-07T06:32:57Z', 'content': 'U.S. President Donald Trump\\'s so-called \"reciprocal\" tariffs took effect on Thursday, imposing higher duties on many of the country\\'s trading partners\\' exports to the U.S.\\r\\n\"IT\\'S MIDNIGHT!!! BILLIONS… [+2919 chars]'}, {'source': {'id': 'the-washington-post', 'name': 'The Washington Post'}, 'author': 'Olivia George', 'title': 'Trump threatens to deploy National Guard in D.C., take over police department - The Washington Post', 'description': 'Trump also said Congress should explore overturning the Home Rule Act. “The lawyers are already studying it,” Trump said Wednesday.', 'url': 'https://www.washingtonpost.com/dc-md-va/2025/08/06/trump-dc-takeover-national-guard-crime/', 'urlToImage': 'https://www.washingtonpost.com/wp-apps/imrs.php?src=https://arc-anglerfish-washpost-prod-washpost.s3.amazonaws.com/public/KZP3LWYQDMGELTVKKXJ6SGTZ2E.JPG&w=1440', 'publishedAt': '2025-08-07T02:22:09Z', 'content': 'President Donald Trump escalated his attacks on D.C.s right to self-governance Wednesday, saying he was considering federalizing the D.C. police department and bringing in the National Guard maybe ve… [+4908 chars]'}]"
        ]
       ],
       "shape": {
        "columns": 3,
        "rows": 1
       }
      },
      "text/html": [
       "<div>\n",
       "<style scoped>\n",
       "    .dataframe tbody tr th:only-of-type {\n",
       "        vertical-align: middle;\n",
       "    }\n",
       "\n",
       "    .dataframe tbody tr th {\n",
       "        vertical-align: top;\n",
       "    }\n",
       "\n",
       "    .dataframe thead th {\n",
       "        text-align: right;\n",
       "    }\n",
       "</style>\n",
       "<table border=\"1\" class=\"dataframe\">\n",
       "  <thead>\n",
       "    <tr style=\"text-align: right;\">\n",
       "      <th></th>\n",
       "      <th>status</th>\n",
       "      <th>totalResults</th>\n",
       "      <th>articles</th>\n",
       "    </tr>\n",
       "  </thead>\n",
       "  <tbody>\n",
       "    <tr>\n",
       "      <th>0</th>\n",
       "      <td>ok</td>\n",
       "      <td>8</td>\n",
       "      <td>[{'source': {'id': None, 'name': 'CNBC'}, 'aut...</td>\n",
       "    </tr>\n",
       "  </tbody>\n",
       "</table>\n",
       "</div>"
      ],
      "text/plain": [
       "  status  totalResults                                           articles\n",
       "0     ok             8  [{'source': {'id': None, 'name': 'CNBC'}, 'aut..."
      ]
     },
     "execution_count": 12,
     "metadata": {},
     "output_type": "execute_result"
    }
   ],
   "source": [
    "import pandas as pd \n",
    "\n",
    "csv_data = pd.DataFrame(csv_data)\n",
    "csv_data"
   ]
  },
  {
   "cell_type": "code",
   "execution_count": null,
   "id": "1a09b70a",
   "metadata": {},
   "outputs": [],
   "source": []
  },
  {
   "cell_type": "code",
   "execution_count": null,
   "id": "d28306e4",
   "metadata": {},
   "outputs": [],
   "source": []
  }
 ],
 "metadata": {
  "kernelspec": {
   "display_name": "stack_lp (3.12.5)",
   "language": "python",
   "name": "python3"
  },
  "language_info": {
   "codemirror_mode": {
    "name": "ipython",
    "version": 3
   },
   "file_extension": ".py",
   "mimetype": "text/x-python",
   "name": "python",
   "nbconvert_exporter": "python",
   "pygments_lexer": "ipython3",
   "version": "3.12.5"
  }
 },
 "nbformat": 4,
 "nbformat_minor": 5
}
