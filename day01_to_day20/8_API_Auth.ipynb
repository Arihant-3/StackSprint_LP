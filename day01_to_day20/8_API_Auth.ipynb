{
 "cells": [
  {
   "cell_type": "markdown",
   "id": "e8029f0c",
   "metadata": {},
   "source": [
    "# 🌐 **Day 8: API Authentication – Headers & Tokens**"
   ]
  },
  {
   "cell_type": "markdown",
   "id": "8c336541",
   "metadata": {},
   "source": [
    "### 🎯 Core Focus:\n",
    "\n",
    "> Understand how APIs use tokens and headers to authenticate users or clients, and how to implement them in requests.\n",
    ">"
   ]
  },
  {
   "cell_type": "markdown",
   "id": "7a5b9f45",
   "metadata": {},
   "source": [
    "---"
   ]
  },
  {
   "cell_type": "markdown",
   "id": "8b359b6a",
   "metadata": {},
   "source": [
    "### 🧠 WHY It Matters:\n",
    "\n",
    "Most real-world APIs are **private** or **rate-limited**. They don’t let just anyone access their data. Instead, they:\n",
    "\n",
    "- Give you a **token** (like a password)\n",
    "- Ask you to **send it via headers** with every request"
   ]
  },
  {
   "cell_type": "markdown",
   "id": "d913cebc",
   "metadata": {},
   "source": [
    "---"
   ]
  },
  {
   "cell_type": "markdown",
   "id": "153aae6d",
   "metadata": {},
   "source": [
    "### 🔎 Key Concepts"
   ]
  },
  {
   "cell_type": "markdown",
   "id": "d14384e8",
   "metadata": {},
   "source": [
    "### 1. **API Keys & Tokens**\n",
    "\n",
    "Tokens are strings like:\n",
    "\n",
    "```text\n",
    "ghp_1234abc5678\n",
    "Bearer eyJhbGciOi...\n",
    "\n",
    "```\n",
    "\n",
    "They are passed in headers to prove you're authorized."
   ]
  },
  {
   "cell_type": "markdown",
   "id": "20de93b7",
   "metadata": {},
   "source": [
    "### 2. **Headers in `requests`**\n",
    "\n",
    "```python\n",
    "headers = {\n",
    "    'Authorization': 'Bearer <your_token_here>',\n",
    "    'Content-Type': 'application/json'\n",
    "}\n",
    "\n",
    "response = requests.get(url, headers=headers)\n",
    "\n",
    "```"
   ]
  },
  {
   "cell_type": "markdown",
   "id": "28b7d4a8",
   "metadata": {},
   "source": [
    "### 3. **Common Auth Header Formats**\n",
    "\n",
    "| Type | Header Name | Format Example |\n",
    "| --- | --- | --- |\n",
    "| Bearer Token | Authorization | `Bearer eyJ...` |\n",
    "| API Key | X-API-Key | `X-API-Key: abc123` |\n",
    "| Basic Auth | Authorization | `Basic base64(username:password)` |"
   ]
  },
  {
   "cell_type": "markdown",
   "id": "e9077dac",
   "metadata": {},
   "source": [
    "---"
   ]
  },
  {
   "cell_type": "markdown",
   "id": "8df47496",
   "metadata": {},
   "source": [
    "#### 1. 🔐 **What is a Token?**\n",
    "\n",
    "Tokens are *random strings* (e.g., `eyJhbGciOiJI...`) issued by the server after a successful login or sign-up.  \n",
    "Think of them as:\n",
    "\n",
    "> 🔐 Temporary digital keys that prove you’re authenticated.\n",
    "\n",
    "> **Analogy**: Think of an API token like a movie ticket.  \n",
    " Just as you need a valid ticket to enter a theater, you need a **valid token** to access a protected API.\n",
    "\n",
    "- **Token** = Unique secret key/API key given by the server\n",
    "- It proves **who you are** or that you’re **allowed** to access specific data\n",
    "\n",
    "They're safer than passwords because they:\n",
    "  - Can expire\n",
    "  - Can have limited access scopes\n",
    "  - Don’t expose user credentials repeatedly\n",
    "\n",
    "#### 2. 🧾 **What is a Header?**\n",
    "\n",
    "> **Analogy**: Headers are like the envelope of a letter.  \n",
    "Inside the envelope (your request), you include:\n",
    "\n",
    "- The letter (your JSON data)\n",
    "- Your identity (token)\n",
    "- Language or format preferences (Content-Type)\n",
    "\n",
    "In code:\n",
    "\n",
    "```python\n",
    "headers = {\n",
    "  \"Authorization\": \"Bearer my_token\",\n",
    "  \"Content-Type\": \"application/json\"\n",
    "}\n",
    "```\n",
    "\n",
    "#### 3. 🧱 **Why 'Bearer'?**\n",
    "\n",
    "> “Bearer” means “I’m carrying this token”  \n",
    "You’re telling the server: *“Hey, I’m the **bearer** of this token — let me in!”*  \n",
    "\n",
    ">  **Analogy**: Imagine you're visiting a VIP area at an event. A Bearer token is like a wristband you got after checking in. Showing that wristband at any gate lets you in — no need to show your ID again.\n",
    "\n",
    "It’s a part of the **Authorization header** format:\n",
    "\n",
    "```http\n",
    "Authorization: Bearer eyJhbGciOiJIUz...\n",
    "```\n",
    "\n",
    "> Other types include:\n",
    "\n",
    "- `Basic` → uses base64(username:password)\n",
    "- `Digest`, `OAuth`, etc.\n",
    "\n",
    "#### 4. 🧪 **What Happens When There’s NO Authorization Header?**\n",
    "\n",
    "- Server might return:\n",
    "    - `401 Unauthorized` (if token is required)\n",
    "    - or ignore it (if token isn’t needed)\n",
    "\n",
    "Try:\n",
    "\n",
    "```python\n",
    "requests.get(\"https://httpbin.org/bearer\")  # no headers\n",
    "```\n",
    "\n",
    "#### 5. 🔐 **Encoding? (Base64 etc.)**\n",
    "\n",
    "> **Analogy**: Like zipping up a file, or writing a secret code.  \n",
    "Base64 is like writing a message in ROT13 or emoji code. It’s **readable by anyone** who knows the format. So it’s not encryption — just wrapping.\n",
    "\n",
    "Some headers (like `Basic Auth`) use **Base64 encoding**:\n",
    "\n",
    "```python\n",
    "import base64\n",
    "credentials = \"username:password\"\n",
    "encoded = base64.b64encode(credentials.encode()).decode()\n",
    "print(encoded)\n",
    "```\n",
    "\n",
    "Used like:\n",
    "\n",
    "```python\n",
    "headers = {\"Authorization\": f\"Basic {encoded}\"}\n",
    "```\n",
    "This doesn't \"secure\" your password — it's just encoding."
   ]
  },
  {
   "cell_type": "markdown",
   "id": "b03f0c5a",
   "metadata": {},
   "source": [
    "### **Token vs. Basic Auth – Key Differences:**\n",
    "\n",
    "| Feature | Basic Auth | Bearer Token |\n",
    "| --- | --- | --- |\n",
    "| What is sent | Username:Password (base64) | Random token string |\n",
    "| Security | 🔓 Less secure (password exposed) | 🔐 Safer (no password reuse) |\n",
    "| Reuse | Needs password every time | Token can be reused |\n",
    "| Expiry | No (unless server handles it) | Often time-limited |"
   ]
  },
  {
   "cell_type": "markdown",
   "id": "3d2c80e0",
   "metadata": {},
   "source": [
    "---"
   ]
  },
  {
   "cell_type": "markdown",
   "id": "c12b1116",
   "metadata": {},
   "source": [
    "#### Encoding (base64) Example"
   ]
  },
  {
   "cell_type": "code",
   "execution_count": null,
   "id": "ca86f5cd",
   "metadata": {},
   "outputs": [
    {
     "name": "stdout",
     "output_type": "stream",
     "text": [
      "dXNlcm5hbWU6cGFzc3dvcmQ=\n"
     ]
    }
   ],
   "source": [
    "import base64\n",
    "credentials = \"username:password\"\n",
    "encoded = base64.b64encode(credentials.encode()).decode()\n",
    "print(encoded)\n",
    "\n",
    "# Used like:\n",
    "headers = {\"Authorization\": f\"Basic {encoded}\"}"
   ]
  },
  {
   "cell_type": "markdown",
   "id": "9c800ef6",
   "metadata": {},
   "source": [
    "#### Basic Auth Example "
   ]
  },
  {
   "cell_type": "code",
   "execution_count": null,
   "id": "aeabd721",
   "metadata": {},
   "outputs": [
    {
     "name": "stdout",
     "output_type": "stream",
     "text": [
      "{'authenticated': True, 'user': 'user'}\n"
     ]
    }
   ],
   "source": [
    "import requests\n",
    "from requests.auth import HTTPBasicAuth\n",
    "\n",
    "url = \"https://httpbin.org/basic-auth/user/pass\"\n",
    "response = requests.get(url, auth=HTTPBasicAuth(\"user\", \"pass\"))\n",
    "print(response.json())\n"
   ]
  },
  {
   "cell_type": "markdown",
   "id": "103d5a07",
   "metadata": {},
   "source": [
    "- Compare status code"
   ]
  },
  {
   "cell_type": "code",
   "execution_count": 32,
   "id": "3cf75631",
   "metadata": {},
   "outputs": [
    {
     "name": "stdout",
     "output_type": "stream",
     "text": [
      "200\n",
      "401\n"
     ]
    }
   ],
   "source": [
    "# With/without header\n",
    "\n",
    "response_with_auth = requests.get(url, auth=HTTPBasicAuth(\"user\", \"pass\"))\n",
    "print(response_with_auth.status_code)\n",
    "\n",
    "response_without_auth = requests.get(url)\n",
    "print(response_without_auth.status_code)\n",
    "\n"
   ]
  },
  {
   "cell_type": "code",
   "execution_count": 36,
   "id": "ddb5ecad",
   "metadata": {},
   "outputs": [
    {
     "name": "stdout",
     "output_type": "stream",
     "text": [
      "401\n"
     ]
    }
   ],
   "source": [
    "# Wrong token\n",
    "\n",
    "token = {\"Authorization\": \"Bearer FAKE_TOKEN\"}\n",
    "response_with_wrong_token = requests.get(url, headers=token)\n",
    "\n",
    "print(response_with_wrong_token.status_code)"
   ]
  },
  {
   "cell_type": "code",
   "execution_count": 38,
   "id": "e6c2fb85",
   "metadata": {},
   "outputs": [
    {
     "name": "stdout",
     "output_type": "stream",
     "text": [
      "401\n"
     ]
    }
   ],
   "source": [
    "# Empty header\n",
    "\n",
    "emp_header = {}\n",
    "response_with_empty_header = requests.get(url, headers=emp_header)\n",
    "\n",
    "print(response_with_empty_header.status_code)"
   ]
  },
  {
   "cell_type": "markdown",
   "id": "2492d8dd",
   "metadata": {},
   "source": [
    "---"
   ]
  },
  {
   "cell_type": "markdown",
   "metadata": {},
   "source": [
    "## 🧪 Try It Now – Interactive Tasks"
   ]
  },
  {
   "cell_type": "markdown",
   "id": "740bfaa2",
   "metadata": {},
   "source": [
    "### Task :\n",
    "Go to this public API that requires no token:"
   ]
  },
  {
   "cell_type": "code",
   "execution_count": 13,
   "id": "9f3beca3",
   "metadata": {},
   "outputs": [],
   "source": [
    "import requests\n",
    "\n",
    "url = \"https://api.apis.guru/v2/list.json\"\n",
    "response = requests.get(url)\n",
    "\n",
    "# print(response.json())"
   ]
  },
  {
   "cell_type": "markdown",
   "id": "a76f50ae",
   "metadata": {},
   "source": [
    "Now try adding a fake token:"
   ]
  },
  {
   "cell_type": "code",
   "execution_count": null,
   "id": "53fd48fd",
   "metadata": {},
   "outputs": [
    {
     "name": "stdout",
     "output_type": "stream",
     "text": [
      "200\n"
     ]
    }
   ],
   "source": [
    "headers = {\"Authorization\": \"Bearer FAKE_TOKEN\"}\n",
    "response = requests.get(url, headers=headers)\n",
    "print(response.status_code)\n",
    "\n"
   ]
  },
  {
   "cell_type": "markdown",
   "id": "830ae7ed",
   "metadata": {},
   "source": [
    "Use this [mock token-checking API](https://httpbin.org/bearer) :"
   ]
  },
  {
   "cell_type": "code",
   "execution_count": 18,
   "id": "02e1271e",
   "metadata": {},
   "outputs": [
    {
     "name": "stdout",
     "output_type": "stream",
     "text": [
      "{'authenticated': True, 'token': 'myToken123'}\n",
      "401\n"
     ]
    }
   ],
   "source": [
    "headers = {\"authorization\": \"Bearer myToken123\"}\n",
    "\n",
    "response_with_auth = requests.get(\"https://httpbin.org/bearer\", headers=headers)\n",
    "response_without_auth = requests.get(\"https://httpbin.org/bearer\")\n",
    "\n",
    "print(response_with_auth.json())\n",
    "print(response_without_auth.status_code)"
   ]
  },
  {
   "cell_type": "markdown",
   "id": "9ca7d242",
   "metadata": {},
   "source": [
    "Try a POST with headers:"
   ]
  },
  {
   "cell_type": "code",
   "execution_count": 4,
   "id": "d751513e",
   "metadata": {},
   "outputs": [
    {
     "data": {
      "text/plain": [
       "{'args': {},\n",
       " 'data': '{\"message\": \"Hello, I have a token!\"}',\n",
       " 'files': {},\n",
       " 'form': {},\n",
       " 'headers': {'Accept': '*/*',\n",
       "  'Accept-Encoding': 'gzip, deflate',\n",
       "  'Authorization': 'Bearer test1234',\n",
       "  'Content-Length': '37',\n",
       "  'Content-Type': 'application/json',\n",
       "  'Host': 'httpbin.org',\n",
       "  'User-Agent': 'python-requests/2.32.4',\n",
       "  'X-Amzn-Trace-Id': 'Root=1-6885ea04-242972ab1c9bd8a217f8e66a'},\n",
       " 'json': {'message': 'Hello, I have a token!'},\n",
       " 'origin': '122.172.229.149',\n",
       " 'url': 'https://httpbin.org/post'}"
      ]
     },
     "execution_count": 4,
     "metadata": {},
     "output_type": "execute_result"
    }
   ],
   "source": [
    "url = \"https://httpbin.org/post\"\n",
    "headers = {\n",
    "    \"Authorization\": \"Bearer test1234\",\n",
    "    \"Content-Type\": \"application/json\"\n",
    "}\n",
    "data = {\"message\": \"Hello, I have a token!\"}\n",
    "\n",
    "response = requests.post(url, headers=headers, json=data)\n",
    "response.json()\n"
   ]
  },
  {
   "cell_type": "code",
   "execution_count": 10,
   "id": "fad2b330",
   "metadata": {},
   "outputs": [
    {
     "name": "stdout",
     "output_type": "stream",
     "text": [
      "{'User-Agent': 'python-requests/2.32.4', 'Accept-Encoding': 'gzip, deflate', 'Accept': '*/*', 'Connection': 'keep-alive'}\n",
      "None\n"
     ]
    }
   ],
   "source": [
    "print(response.request.headers)\n",
    "print(response.request.body)"
   ]
  },
  {
   "cell_type": "markdown",
   "id": "119a5261",
   "metadata": {},
   "source": [
    "##### 🧪 Test with Real Token (via Free API):  \n",
    "Example using [reqres.in](https://reqres.in):"
   ]
  },
  {
   "cell_type": "code",
   "execution_count": 39,
   "id": "d9f3c414",
   "metadata": {},
   "outputs": [
    {
     "name": "stdout",
     "output_type": "stream",
     "text": [
      "Token: None\n",
      "{'Authorization': 'Bearer None'}\n"
     ]
    }
   ],
   "source": [
    "import requests\n",
    "\n",
    "# Simulate login to get a token\n",
    "login_url = \"https://reqres.in/api/login\"\n",
    "login_payload = {\n",
    "    \"email\": \"eve.holt@reqres.in\",\n",
    "    \"password\": \"cityslicka\"\n",
    "}\n",
    "login_response = requests.post(login_url, json=login_payload)\n",
    "token = login_response.json().get(\"token\")\n",
    "print(\"Token:\", token)\n",
    "\n",
    "# Use the token\n",
    "headers = {\"Authorization\": f\"Bearer {token}\"}\n",
    "print(headers)\n"
   ]
  },
  {
   "cell_type": "markdown",
   "id": "7ea3ae46",
   "metadata": {},
   "source": [
    "---"
   ]
  },
  {
   "cell_type": "markdown",
   "id": "07407366",
   "metadata": {},
   "source": [
    "### ⚡ Bonus Tip: Environment Variables (Safe Token Storage)\n",
    "\n",
    "In real code, never hardcode your token. Use:\n",
    "\n",
    "```python\n",
    "import os\n",
    "\n",
    "token = os.getenv(\"MY_API_TOKEN\")\n",
    "headers = {\"Authorization\": f\"Bearer {token}\"}\n",
    "\n",
    "```"
   ]
  },
  {
   "cell_type": "markdown",
   "id": "7f29dd0d",
   "metadata": {},
   "source": [
    "---"
   ]
  },
  {
   "cell_type": "markdown",
   "id": "393e2b92",
   "metadata": {},
   "source": [
    "## 📝 Summary\n",
    "\n",
    "| Concept | Example |\n",
    "| --- | --- |\n",
    "| Headers | Metadata sent with request |\n",
    "| Token-based Auth | `Authorization: Bearer <token>` |\n",
    "| Secure handling | Use env vars instead of hardcoding |\n",
    "| Tools to test | https://httpbin.org/, https://reqres.in |\n",
    "\n",
    "✅ Basic Auth = username+password in base64  \n",
    "✅ Bearer Token = secure string issued post login  \n",
    "✅ Headers = key part of secure API communication  \n",
    "✅ Bearer tokens are safer, reusable, and often expire  \n",
    "✅ Always use HTTPS to protect sensitive headers\n"
   ]
  }
 ],
 "metadata": {
  "kernelspec": {
   "display_name": "stack_lp (3.12.5)",
   "language": "python",
   "name": "python3"
  },
  "language_info": {
   "codemirror_mode": {
    "name": "ipython",
    "version": 3
   },
   "file_extension": ".py",
   "mimetype": "text/x-python",
   "name": "python",
   "nbconvert_exporter": "python",
   "pygments_lexer": "ipython3",
   "version": "3.12.5"
  }
 },
 "nbformat": 4,
 "nbformat_minor": 5
}
