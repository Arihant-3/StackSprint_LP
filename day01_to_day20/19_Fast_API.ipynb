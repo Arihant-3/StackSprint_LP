{
 "cells": [
  {
   "cell_type": "markdown",
   "id": "9d41be05",
   "metadata": {},
   "source": [
    "# 🦾 **Day 19 : How to Build Your Own Public API with FastAPI**"
   ]
  },
  {
   "cell_type": "markdown",
   "id": "9ea9c9b1",
   "metadata": {},
   "source": [
    "**Goal**: Learn how to create and expose your own APIs using Python and FastAPI — the fastest-growing backend framework."
   ]
  },
  {
   "cell_type": "markdown",
   "id": "193b6d10",
   "metadata": {},
   "source": [
    "---"
   ]
  },
  {
   "cell_type": "markdown",
   "id": "2854bacb",
   "metadata": {},
   "source": [
    "## 🔧 What is FastAPI?\n",
    "\n",
    "FastAPI is a modern, fast (high-performance), web framework for building APIs with Python based on standard Python type hints.\n",
    "\n",
    "The key features are:\n",
    "\n",
    "- **Fast**: Very high performance, on par with **NodeJS** and **Go** (thanks to Starlette and Pydantic). [One of the fastest Python frameworks available](https://fastapi.tiangolo.com/#performance).\n",
    "- **Fast to code**: Increase the speed to develop features by about 200% to 300%. *\n",
    "- **Fewer bugs**: Reduce about 40% of human (developer) induced errors. *\n",
    "- **Intuitive**: Great editor support.  everywhere. Less time debugging.\n",
    "    \n",
    "    Completion\n",
    "    \n",
    "- **Easy**: Designed to be easy to use and learn. Less time reading docs.\n",
    "- **Short**: Minimize code duplication. Multiple features from each parameter declaration. Fewer bugs.\n",
    "- **Robust**: Get production-ready code. With automatic interactive documentation.\n",
    "- **Standards-based**: Based on (and fully compatible with) the open standards for APIs: [OpenAPI](https://github.com/OAI/OpenAPI-Specification) (previously known as Swagger) and [JSON Schema](https://json-schema.org/)."
   ]
  },
  {
   "cell_type": "markdown",
   "id": "6605b521",
   "metadata": {
    "vscode": {
     "languageId": "plaintext"
    }
   },
   "source": [
    "## 🙌 Why FastAPI?\n",
    "\n",
    "- 🚀 Very fast and modern (used by Netflix, Microsoft)\n",
    "- 💬 Built-in documentation (OpenAPI/Swagger)\n",
    "- 🧠 Type-safe (great for future-proofing)\n",
    "- ❤️ Works perfectly with Python and pydantic"
   ]
  },
  {
   "cell_type": "markdown",
   "id": "b8e29e5e",
   "metadata": {},
   "source": [
    "---"
   ]
  },
  {
   "cell_type": "markdown",
   "id": "352bbd29",
   "metadata": {
    "vscode": {
     "languageId": "plaintext"
    }
   },
   "source": [
    "## 🛠️ Step-by-Step Guide\n",
    "\n",
    "### 1. ✅ Install FastAPI and Uvicorn (local server)\n",
    "\n",
    "```bash\n",
    "pip install fastapi uvicorn\n",
    "\n",
    "```\n",
    "\n",
    "### 2. ✅ Create a file `main.py`"
   ]
  },
  {
   "cell_type": "code",
   "execution_count": null,
   "id": "520231f2",
   "metadata": {},
   "outputs": [],
   "source": [
    "from fastapi import FastAPI\n",
    "from pydantic import BaseModel\n",
    "\n",
    "app = FastAPI()\n",
    "\n",
    "# Define a data model for POST input\n",
    "class User(BaseModel):\n",
    "    name : str\n",
    "    age : int \n",
    "    \n",
    "# Get Endpoint\n",
    "@app.get(\"/\")\n",
    "def read_root():\n",
    "    return {\"message\": \"Welcome to your own API!\"}\n",
    "\n",
    "# Dynamic path parameter\n",
    "@app.get(\"/user/{name}\")\n",
    "def read_user(name:str):\n",
    "    return {\"message\": f\"Hello, {name}!\"}\n",
    "\n",
    "# POST endpoint\n",
    "@app.post(\"/submit\")\n",
    "def create_user(user: User):\n",
    "    return {\"Message\": f\"{user.name} is {user.age} years old.\"}"
   ]
  },
  {
   "cell_type": "markdown",
   "id": "d7a91c29",
   "metadata": {},
   "source": [
    "### 3. ✅ Run your API server:\n",
    "\n",
    "```bash\n",
    "uvicorn main:app --reload\n",
    "\n",
    "```\n",
    "\n",
    "Now open http://localhost:8000/docs — this is your auto-generated Swagger UI! 🎉"
   ]
  },
  {
   "cell_type": "markdown",
   "id": "6ab74508",
   "metadata": {},
   "source": [
    "---"
   ]
  },
  {
   "cell_type": "markdown",
   "id": "92c0fe94",
   "metadata": {},
   "source": [
    "## 💡 What You Can Add Next\n",
    "\n",
    "| Idea | Description |\n",
    "| --- | --- |\n",
    "| ✅ `query parameters` | Add an endpoint like `/user/?age=20` using `age: int = Query(...)` |\n",
    "| ✅ Validation rules | Use `Field(..., gt=0, lt=150)` for age range |\n",
    "| ✅ Custom response codes | Return `status_code=201` for POST success |\n",
    "| ✅ In-memory storage | Store submitted users in a list or dictionary |\n",
    "| ✅ CORS middleware | Add `from fastapi.middleware.cors import CORSMiddleware` if you plan to call from frontend |\n",
    "| ✅ Streamlit frontend | Connect this API to a Streamlit form |\n",
    "\n",
    "**What is CORS (Cross-Origin Resource Sharing)?**\n",
    "\n",
    "- CORS is a browser security feature that restricts web pages from making requests to a different domain than the one that served the page.\n",
    "- This restriction, known as the [same-origin policy](https://www.google.com/search?sca_esv=adde10145c0e0ebd&sxsrf=AE3TifOqq3i48BlCdESYMbYkm7iBL-jAcw%3A1754573721277&q=same-origin+policy&sa=X&ved=2ahUKEwizg4676PiOAxVUTWwGHeCiCocQxccNegUI_gEQAQ&mstk=AUtExfDBzd--79g9WoB4MJC3GPFkysL41Rr-Uzj-vjQl4ByuQd7IboPZwxa_75cim7aYtOmu2x7KAr7MEoBMtqSFSnXbz4YRjBSrHutcgTcqflmILWS0X1L3AmPbpsqWx1sVLAsFszD1DUmr-8JCO_l1jKVdiZT3HXotW-1_kwGTKg44V6HoA2LtPD3mLvfAtHSFwb8C6mDkxQL5t31k0Q6XJ10zL9SLufYvqM9qnsYMGxW-H6mHIJI2-WLeZDhoxXSBU3RxoFcxlZuC78cQDAhWACdk&csui=3), prevents malicious websites from accessing sensitive data from other websites.\n",
    "- CORS provides a way for servers to explicitly allow cross-origin requests by setting specific HTTP headers.\n"
   ]
  },
  {
   "cell_type": "markdown",
   "id": "e3e92a15",
   "metadata": {},
   "source": [
    "---"
   ]
  },
  {
   "cell_type": "markdown",
   "id": "48878b3b",
   "metadata": {
    "vscode": {
     "languageId": "plaintext"
    }
   },
   "source": [
    "## 🔍 Analogies to Understand FastAPI Concepts\n",
    "\n",
    "| Concept | Analogy |\n",
    "| --- | --- |\n",
    "| `FastAPI()` | Your API engine — like starting a web cafe |\n",
    "| `@app.get()` | Think of it as saying: \"If a customer asks this question…\" |\n",
    "| `@app.post()` | …and this is when the customer **submits a form** |\n",
    "| `BaseModel` | Like a **form template** that says: “This field must be a number, this one a string…” |\n",
    "| `pydantic` | A smart assistant that checks if the form is filled correctly |\n",
    "| `Swagger UI (/docs)` | An interactive front desk for anyone to test your services |\n",
    "| `uvicorn` | The waiter — takes the request, gives it to the chef (your function), and brings back the dish (response) |"
   ]
  },
  {
   "cell_type": "markdown",
   "id": "48a3789a",
   "metadata": {},
   "source": [
    "---"
   ]
  },
  {
   "cell_type": "markdown",
   "id": "0cbd8ac3",
   "metadata": {},
   "source": [
    "- Credit : [FastAPI](https://fastapi.tiangolo.com/)"
   ]
  }
 ],
 "metadata": {
  "kernelspec": {
   "display_name": "stack_lp (3.12.5)",
   "language": "python",
   "name": "python3"
  },
  "language_info": {
   "codemirror_mode": {
    "name": "ipython",
    "version": 3
   },
   "file_extension": ".py",
   "mimetype": "text/x-python",
   "name": "python",
   "nbconvert_exporter": "python",
   "pygments_lexer": "ipython3",
   "version": "3.12.5"
  }
 },
 "nbformat": 4,
 "nbformat_minor": 5
}
