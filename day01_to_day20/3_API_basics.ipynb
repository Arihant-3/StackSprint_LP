{
 "cells": [
  {
   "cell_type": "markdown",
   "id": "d16c484f",
   "metadata": {},
   "source": [
    "# 📘 **Day 3: API Basics**"
   ]
  },
  {
   "cell_type": "markdown",
   "id": "985a1d59",
   "metadata": {},
   "source": [
    "---"
   ]
  },
  {
   "cell_type": "markdown",
   "id": "e2185cb5",
   "metadata": {},
   "source": [
    "## 🧠 **What is an API?**\n",
    "\n",
    "**API** stands for **Application Programming Interface**.\n",
    "\n",
    "It’s a **set of rules** that lets two systems/applications communicate with each other.\n",
    "\n",
    "APIs are like **messengers** that carry requests and bring back responses."
   ]
  },
  {
   "cell_type": "markdown",
   "id": "c8d04380",
   "metadata": {},
   "source": [
    "---"
   ]
  },
  {
   "cell_type": "markdown",
   "id": "412796ce",
   "metadata": {},
   "source": [
    "### 🧃 Real-World Analogy:\n",
    "\n",
    "#### **Restaurant Menu**\n",
    "\n",
    "- **You = Client** (e.g., browser or Python script)\n",
    "- **Waiter = API**\n",
    "- **Kitchen = Server**\n",
    "\n",
    "📝 You tell the waiter what dish you want → the waiter gives your request to the kitchen → the kitchen prepares it → the waiter brings back the result.\n",
    "\n",
    "💡 You never go to the kitchen or care how it works — you only talk to the API!\n",
    "\n",
    "\n",
    "#### **Vending Machine**\n",
    "\n",
    "- You press a button (input/request)\n",
    "- The machine gives you a snack (output/response)\n",
    "- You don’t need to know how it works inside\n",
    "\n",
    "This is **how apps like YouTube, Twitter, or Weather apps work behind the scenes**."
   ]
  },
  {
   "cell_type": "markdown",
   "id": "d88928fa",
   "metadata": {},
   "source": [
    "---"
   ]
  },
  {
   "cell_type": "markdown",
   "id": "bf0d47d7",
   "metadata": {},
   "source": [
    "## 🔍 Types of APIs\n",
    "\n",
    "| Type | Example |\n",
    "| --- | --- |\n",
    "| **Web APIs** (main focus) | RESTful APIs, GraphQL, SOAP |\n",
    "| Library APIs | Python's `os` or `json` modules |\n",
    "| OS-level APIs | Windows API, Android API |\n",
    "\n",
    "For now, we focus on **Web APIs** — especially **REST APIs** using JSON."
   ]
  },
  {
   "cell_type": "markdown",
   "id": "3f288a5a",
   "metadata": {},
   "source": [
    "---"
   ]
  },
  {
   "cell_type": "markdown",
   "metadata": {},
   "source": [
    "### 🌐 **What is a REST API?**\n",
    "\n",
    "REST = **REpresentational State Transfer**\n",
    "\n",
    "A REST API uses:\n",
    "\n",
    "- **URLs** to identify resources (`/users`, `/weather`, etc.)\n",
    "- **HTTP Methods** to perform actions:\n",
    "    - `GET` – fetch data\n",
    "    - `POST` – send new data\n",
    "    - `PUT` – update existing\n",
    "    - `DELETE` – remove something"
   ]
  },
  {
   "cell_type": "markdown",
   "id": "8bb81ebc",
   "metadata": {},
   "source": [
    "### ⚙️ A Sample REST API Request:\n",
    "\n",
    "**GET** `https://api.example.com/users/aryan`\n",
    "\n",
    "- You're asking for info about the user \"aryan\"\n",
    "- The response comes in **JSON**\n",
    "\n",
    "```json\n",
    "{\n",
    "  \"username\": \"aryan\",\n",
    "  \"followers\": 102,\n",
    "  \"bio\": \"Learning APIs\"\n",
    "}\n",
    "\n",
    "```"
   ]
  },
  {
   "cell_type": "markdown",
   "id": "d230c861",
   "metadata": {},
   "source": [
    "---"
   ]
  },
  {
   "cell_type": "markdown",
   "id": "633fa0ab",
   "metadata": {},
   "source": [
    "### 🧪 Where You'll Use APIs\n",
    "\n",
    "| Task | API Example |\n",
    "| --- | --- |\n",
    "| Weather updates | OpenWeatherMap API |\n",
    "| Stock prices | Alpha Vantage, Yahoo Finance |\n",
    "| Currency rates | ExchangeRate API |\n",
    "| Chatbots | OpenAI API  |\n",
    "| Instagram bots | Unofficial APIs |\n",
    "| App dashboards | Power BI with API connectors |"
   ]
  },
  {
   "cell_type": "markdown",
   "id": "8b5d2879",
   "metadata": {},
   "source": [
    "---"
   ]
  },
  {
   "cell_type": "markdown",
   "id": "a21da000",
   "metadata": {},
   "source": [
    "### Task : "
   ]
  },
  {
   "cell_type": "markdown",
   "id": "8a91927b",
   "metadata": {},
   "source": [
    "After opening this link in browser   \n",
    "👉 https://jsonplaceholder.typicode.com/users/1\n",
    "\n",
    "I get this response\n",
    "```json\n",
    "{\n",
    "  \"id\": 1,\n",
    "  \"name\": \"Leanne Graham\",\n",
    "  \"username\": \"Bret\",\n",
    "  \"email\": \"Sincere@april.biz\",\n",
    "  ..........\n",
    "}\n",
    "```\n",
    "- after changing the number at the end (e.g., `/users/2`)  \n",
    "\n",
    "I now get this response  \n",
    "```json\n",
    "{\n",
    "  \"id\": 2,\n",
    "  \"name\": \"Ervin Howell\",\n",
    "  \"username\": \"Antonette\",\n",
    "  \"email\": \"Shanna@melissa.tv\",\n",
    "  ...........\n",
    "}\n",
    "```\n",
    "\n",
    "- also explored `/posts/1`, `/comments`  \n",
    "\n",
    "and get this response with `/posts/1`\n",
    "```json\n",
    "[\n",
    "  {\n",
    "    \"userId\": 1,\n",
    "    \"id\": 1,\n",
    "    \"title\": \"are or make repel provide blinded except option reprehend\",\n",
    "    \"body\": \"because and undertakes\\ntakes upon the objections that follow expeditiously and when\\nreprehends the annoyances as which all\\nour things are but are things happen to the architect\"\n",
    "  },\n",
    "  {\n",
    "    \"userId\": 1,\n",
    "    \"id\": 2,\n",
    "    \"title\": \"who is being\",\n",
    "    \"body\": \"is things in time of life\\nsequi are nothing reprehensible pain blessed it pains neither\\nflee flattery pleasure further or nothing annoyance as rejecting\\nwho open not debts we can who neither unless nothing\"\n",
    "  },\n",
    "  {\n",
    "    \"userId\": 1,\n",
    "    \"id\": 3,\n",
    "    \"title\": \"she repels troubles as if she were exercising herself or\",\n",
    "    \"body\": \"and just but what right\\npleasure blinded all choosing or to\\npleasure pains or accusing who is born\\nmoles further his hatred and work and wants or\"\n",
    "  },\n",
    "  .........\n",
    "]\n",
    "```\n",
    "\n",
    "And this response with `/comments`\n",
    "\n",
    "```json\n",
    "[\n",
    "  {\n",
    "    \"postId\": 1,\n",
    "    \"id\": 1,\n",
    "    \"name\": \"id labore ex et quam laborum\",\n",
    "    \"email\": \"Eliseo@gardner.biz\",\n",
    "    \"body\": \"laudantium enim quasi est quidem magnam voluptate ipsam eos\\ntempora quo necessitatibus\\ndolor quam autem quasi\\nreiciendis et nam sapiente accusantium\"\n",
    "  },\n",
    "  {\n",
    "    \"postId\": 1,\n",
    "    \"id\": 2,\n",
    "    \"name\": \"quo vero reiciendis velit similique earum\",\n",
    "    \"email\": \"Jayne_Kuhic@sydney.com\",\n",
    "    \"body\": \"est natus enim nihil est dolore omnis voluptatem numquam\\net omnis occaecati quod ullam at\\nvoluptatem error expedita pariatur\\nnihil sint nostrum voluptatem reiciendis et\"\n",
    "  },\n",
    "  {\n",
    "    \"postId\": 1,\n",
    "    \"id\": 3,\n",
    "    \"name\": \"odio adipisci rerum aut animi\",\n",
    "    \"email\": \"Nikita@garfield.biz\",\n",
    "    \"body\": \"quia molestiae reprehenderit quasi aspernatur\\naut expedita occaecati aliquam eveniet laudantium\\nomnis quibusdam delectus saepe quia accusamus maiores nam est\\ncum et ducimus et vero voluptates excepturi deleniti ratione\"\n",
    "  },\n",
    "  .........\n",
    "]\n",
    "```"
   ]
  },
  {
   "cell_type": "markdown",
   "id": "eda490bd",
   "metadata": {},
   "source": [
    "- What is the base URL?  \n",
    "https://jsonplaceholder.typicode.com \n",
    "\n",
    "- What does `/users/1` represent?  \n",
    "It accesses the user with ID = 1 from the /users resource — meaning it's fetching the first user's details from a mock database.\n",
    "\n",
    "- What format is the response in?  \n",
    "Json\n"
   ]
  },
  {
   "cell_type": "markdown",
   "id": "ef3e59cf",
   "metadata": {},
   "source": [
    "---"
   ]
  },
  {
   "cell_type": "markdown",
   "id": "8d71f02f",
   "metadata": {},
   "source": [
    "### 📝 Summary\n",
    "\n",
    "- **API** = messenger between systems\n",
    "- It uses HTTP methods (`GET`, `POST`, etc.)\n",
    "- The response is usually in **JSON**\n",
    "- You’ll work with APIs every day as a dev, analyst, or ML engineer"
   ]
  }
 ],
 "metadata": {
  "language_info": {
   "name": "python"
  }
 },
 "nbformat": 4,
 "nbformat_minor": 5
}
