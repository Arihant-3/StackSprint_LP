{
 "cells": [
  {
   "cell_type": "markdown",
   "id": "38441023",
   "metadata": {},
   "source": [
    "# 📘 **Day 9: Working with APIs That Return Nested JSON**\n",
    "\n",
    "Core Concept: Learn how to navigate nested JSON, extract specific parts, and flatten them for analysis."
   ]
  },
  {
   "cell_type": "markdown",
   "id": "7060e7ee",
   "metadata": {},
   "source": [
    "---"
   ]
  },
  {
   "cell_type": "markdown",
   "id": "bb731e7b",
   "metadata": {},
   "source": [
    "## 🔍 What You’ll Learn Today\n",
    "\n",
    "| Concept | Description |\n",
    "| --- | --- |\n",
    "| Nested JSON | JSON with embedded dictionaries/lists inside other dictionaries |\n",
    "| Accessing nested values | Using `json_data[\"key1\"][\"key2\"]` or loops |\n",
    "| Flattening JSON | Turning complex JSON into flat rows (great for DataFrames) |\n",
    "| Real-world use case | Working with APIs like GitHub, OpenWeather, or NewsAPI that return nested data |"
   ]
  },
  {
   "cell_type": "markdown",
   "id": "e16a5d98",
   "metadata": {},
   "source": [
    "---"
   ]
  },
  {
   "cell_type": "markdown",
   "id": "4d9e1a03",
   "metadata": {},
   "source": [
    "### 📦 Example: Nested JSON Structure\n",
    "\n",
    "```json\n",
    "{\n",
    "  \"user\": {\n",
    "    \"name\": \"Aryan\",\n",
    "    \"location\": {\n",
    "      \"city\": \"Asansol\",\n",
    "      \"country\": \"India\"\n",
    "    },\n",
    "    \"skills\": [\"Python\", \"ML\", \"SQL\"]\n",
    "  }\n",
    "}\n",
    "\n",
    "```\n",
    "\n",
    "To get:\n",
    "\n",
    "- Name: `data[\"user\"][\"name\"]`\n",
    "- Country: `data[\"user\"][\"location\"][\"country\"]`\n",
    "- Skills: `data[\"user\"][\"skills\"]`\n",
    "\n",
    "---\n",
    "\n",
    "### 🧠 Analogy:\n",
    "\n",
    "> Imagine a JSON like a multi-layered lunchbox 🍱  \n",
    ">\n",
    "> Each container (dict or list) holds another — you have to **open layer by layer** to get the exact item.\n"
   ]
  },
  {
   "cell_type": "markdown",
   "id": "9eea19a9",
   "metadata": {},
   "source": [
    "---"
   ]
  },
  {
   "cell_type": "markdown",
   "id": "0031a19b",
   "metadata": {},
   "source": [
    "## 🔧 Python Tools for Nested JSON"
   ]
  },
  {
   "cell_type": "markdown",
   "id": "6b99cc8f",
   "metadata": {},
   "source": [
    "### 🛠 Access using `json.loads()` or `.json()`"
   ]
  },
  {
   "cell_type": "code",
   "execution_count": 1,
   "id": "0e1fffb5",
   "metadata": {},
   "outputs": [
    {
     "name": "stdout",
     "output_type": "stream",
     "text": [
      "8\n"
     ]
    }
   ],
   "source": [
    "import requests\n",
    "\n",
    "r = requests.get(\"https://api.github.com/users/octocat\")\n",
    "data = r.json()\n",
    "print(data[\"public_repos\"])\n"
   ]
  },
  {
   "cell_type": "markdown",
   "id": "646927be",
   "metadata": {},
   "source": [
    "### 🛠 Flatten using `pandas.json_normalize()`"
   ]
  },
  {
   "cell_type": "code",
   "execution_count": 2,
   "id": "fdfcacf1",
   "metadata": {},
   "outputs": [
    {
     "data": {
      "application/vnd.microsoft.datawrangler.viewer.v0+json": {
       "columns": [
        {
         "name": "index",
         "rawType": "int64",
         "type": "integer"
        },
        {
         "name": "login",
         "rawType": "object",
         "type": "string"
        },
        {
         "name": "id",
         "rawType": "int64",
         "type": "integer"
        },
        {
         "name": "node_id",
         "rawType": "object",
         "type": "string"
        },
        {
         "name": "avatar_url",
         "rawType": "object",
         "type": "string"
        },
        {
         "name": "gravatar_id",
         "rawType": "object",
         "type": "string"
        },
        {
         "name": "url",
         "rawType": "object",
         "type": "string"
        },
        {
         "name": "html_url",
         "rawType": "object",
         "type": "string"
        },
        {
         "name": "followers_url",
         "rawType": "object",
         "type": "string"
        },
        {
         "name": "following_url",
         "rawType": "object",
         "type": "string"
        },
        {
         "name": "gists_url",
         "rawType": "object",
         "type": "string"
        },
        {
         "name": "starred_url",
         "rawType": "object",
         "type": "string"
        },
        {
         "name": "subscriptions_url",
         "rawType": "object",
         "type": "string"
        },
        {
         "name": "organizations_url",
         "rawType": "object",
         "type": "string"
        },
        {
         "name": "repos_url",
         "rawType": "object",
         "type": "string"
        },
        {
         "name": "events_url",
         "rawType": "object",
         "type": "string"
        },
        {
         "name": "received_events_url",
         "rawType": "object",
         "type": "string"
        },
        {
         "name": "type",
         "rawType": "object",
         "type": "string"
        },
        {
         "name": "user_view_type",
         "rawType": "object",
         "type": "string"
        },
        {
         "name": "site_admin",
         "rawType": "bool",
         "type": "boolean"
        },
        {
         "name": "name",
         "rawType": "object",
         "type": "string"
        },
        {
         "name": "company",
         "rawType": "object",
         "type": "string"
        },
        {
         "name": "blog",
         "rawType": "object",
         "type": "string"
        },
        {
         "name": "location",
         "rawType": "object",
         "type": "string"
        },
        {
         "name": "email",
         "rawType": "object",
         "type": "unknown"
        },
        {
         "name": "hireable",
         "rawType": "object",
         "type": "unknown"
        },
        {
         "name": "bio",
         "rawType": "object",
         "type": "unknown"
        },
        {
         "name": "twitter_username",
         "rawType": "object",
         "type": "unknown"
        },
        {
         "name": "public_repos",
         "rawType": "int64",
         "type": "integer"
        },
        {
         "name": "public_gists",
         "rawType": "int64",
         "type": "integer"
        },
        {
         "name": "followers",
         "rawType": "int64",
         "type": "integer"
        },
        {
         "name": "following",
         "rawType": "int64",
         "type": "integer"
        },
        {
         "name": "created_at",
         "rawType": "object",
         "type": "string"
        },
        {
         "name": "updated_at",
         "rawType": "object",
         "type": "string"
        }
       ],
       "ref": "cf629b8a-aa2a-4964-921e-dec334ef0ec3",
       "rows": [
        [
         "0",
         "octocat",
         "583231",
         "MDQ6VXNlcjU4MzIzMQ==",
         "https://avatars.githubusercontent.com/u/583231?v=4",
         "",
         "https://api.github.com/users/octocat",
         "https://github.com/octocat",
         "https://api.github.com/users/octocat/followers",
         "https://api.github.com/users/octocat/following{/other_user}",
         "https://api.github.com/users/octocat/gists{/gist_id}",
         "https://api.github.com/users/octocat/starred{/owner}{/repo}",
         "https://api.github.com/users/octocat/subscriptions",
         "https://api.github.com/users/octocat/orgs",
         "https://api.github.com/users/octocat/repos",
         "https://api.github.com/users/octocat/events{/privacy}",
         "https://api.github.com/users/octocat/received_events",
         "User",
         "public",
         "False",
         "The Octocat",
         "@github",
         "https://github.blog",
         "San Francisco",
         null,
         null,
         null,
         null,
         "8",
         "8",
         "18797",
         "9",
         "2011-01-25T18:44:36Z",
         "2025-07-22T11:24:35Z"
        ]
       ],
       "shape": {
        "columns": 33,
        "rows": 1
       }
      },
      "text/html": [
       "<div>\n",
       "<style scoped>\n",
       "    .dataframe tbody tr th:only-of-type {\n",
       "        vertical-align: middle;\n",
       "    }\n",
       "\n",
       "    .dataframe tbody tr th {\n",
       "        vertical-align: top;\n",
       "    }\n",
       "\n",
       "    .dataframe thead th {\n",
       "        text-align: right;\n",
       "    }\n",
       "</style>\n",
       "<table border=\"1\" class=\"dataframe\">\n",
       "  <thead>\n",
       "    <tr style=\"text-align: right;\">\n",
       "      <th></th>\n",
       "      <th>login</th>\n",
       "      <th>id</th>\n",
       "      <th>node_id</th>\n",
       "      <th>avatar_url</th>\n",
       "      <th>gravatar_id</th>\n",
       "      <th>url</th>\n",
       "      <th>html_url</th>\n",
       "      <th>followers_url</th>\n",
       "      <th>following_url</th>\n",
       "      <th>gists_url</th>\n",
       "      <th>...</th>\n",
       "      <th>email</th>\n",
       "      <th>hireable</th>\n",
       "      <th>bio</th>\n",
       "      <th>twitter_username</th>\n",
       "      <th>public_repos</th>\n",
       "      <th>public_gists</th>\n",
       "      <th>followers</th>\n",
       "      <th>following</th>\n",
       "      <th>created_at</th>\n",
       "      <th>updated_at</th>\n",
       "    </tr>\n",
       "  </thead>\n",
       "  <tbody>\n",
       "    <tr>\n",
       "      <th>0</th>\n",
       "      <td>octocat</td>\n",
       "      <td>583231</td>\n",
       "      <td>MDQ6VXNlcjU4MzIzMQ==</td>\n",
       "      <td>https://avatars.githubusercontent.com/u/583231...</td>\n",
       "      <td></td>\n",
       "      <td>https://api.github.com/users/octocat</td>\n",
       "      <td>https://github.com/octocat</td>\n",
       "      <td>https://api.github.com/users/octocat/followers</td>\n",
       "      <td>https://api.github.com/users/octocat/following...</td>\n",
       "      <td>https://api.github.com/users/octocat/gists{/gi...</td>\n",
       "      <td>...</td>\n",
       "      <td>None</td>\n",
       "      <td>None</td>\n",
       "      <td>None</td>\n",
       "      <td>None</td>\n",
       "      <td>8</td>\n",
       "      <td>8</td>\n",
       "      <td>18797</td>\n",
       "      <td>9</td>\n",
       "      <td>2011-01-25T18:44:36Z</td>\n",
       "      <td>2025-07-22T11:24:35Z</td>\n",
       "    </tr>\n",
       "  </tbody>\n",
       "</table>\n",
       "<p>1 rows × 33 columns</p>\n",
       "</div>"
      ],
      "text/plain": [
       "     login      id               node_id  \\\n",
       "0  octocat  583231  MDQ6VXNlcjU4MzIzMQ==   \n",
       "\n",
       "                                          avatar_url gravatar_id  \\\n",
       "0  https://avatars.githubusercontent.com/u/583231...               \n",
       "\n",
       "                                    url                    html_url  \\\n",
       "0  https://api.github.com/users/octocat  https://github.com/octocat   \n",
       "\n",
       "                                    followers_url  \\\n",
       "0  https://api.github.com/users/octocat/followers   \n",
       "\n",
       "                                       following_url  \\\n",
       "0  https://api.github.com/users/octocat/following...   \n",
       "\n",
       "                                           gists_url  ... email hireable  \\\n",
       "0  https://api.github.com/users/octocat/gists{/gi...  ...  None     None   \n",
       "\n",
       "    bio twitter_username public_repos public_gists followers following  \\\n",
       "0  None             None            8            8     18797         9   \n",
       "\n",
       "             created_at            updated_at  \n",
       "0  2011-01-25T18:44:36Z  2025-07-22T11:24:35Z  \n",
       "\n",
       "[1 rows x 33 columns]"
      ]
     },
     "execution_count": 2,
     "metadata": {},
     "output_type": "execute_result"
    }
   ],
   "source": [
    "from pandas import json_normalize\n",
    "\n",
    "json_normalize(data)"
   ]
  },
  {
   "cell_type": "markdown",
   "id": "08617e56",
   "metadata": {},
   "source": [
    "For deeply nested parts:"
   ]
  },
  {
   "cell_type": "code",
   "execution_count": 8,
   "id": "c71fc32b",
   "metadata": {},
   "outputs": [
    {
     "data": {
      "application/vnd.microsoft.datawrangler.viewer.v0+json": {
       "columns": [
        {
         "name": "index",
         "rawType": "int64",
         "type": "integer"
        },
        {
         "name": "login",
         "rawType": "object",
         "type": "string"
        },
        {
         "name": "id",
         "rawType": "int64",
         "type": "integer"
        },
        {
         "name": "node_id",
         "rawType": "object",
         "type": "string"
        },
        {
         "name": "avatar_url",
         "rawType": "object",
         "type": "string"
        },
        {
         "name": "gravatar_id",
         "rawType": "object",
         "type": "string"
        },
        {
         "name": "url",
         "rawType": "object",
         "type": "string"
        },
        {
         "name": "html_url",
         "rawType": "object",
         "type": "string"
        },
        {
         "name": "followers_url",
         "rawType": "object",
         "type": "string"
        },
        {
         "name": "following_url",
         "rawType": "object",
         "type": "string"
        },
        {
         "name": "gists_url",
         "rawType": "object",
         "type": "string"
        },
        {
         "name": "starred_url",
         "rawType": "object",
         "type": "string"
        },
        {
         "name": "subscriptions_url",
         "rawType": "object",
         "type": "string"
        },
        {
         "name": "organizations_url",
         "rawType": "object",
         "type": "string"
        },
        {
         "name": "repos_url",
         "rawType": "object",
         "type": "string"
        },
        {
         "name": "events_url",
         "rawType": "object",
         "type": "string"
        },
        {
         "name": "received_events_url",
         "rawType": "object",
         "type": "string"
        },
        {
         "name": "type",
         "rawType": "object",
         "type": "string"
        },
        {
         "name": "user_view_type",
         "rawType": "object",
         "type": "string"
        },
        {
         "name": "site_admin",
         "rawType": "bool",
         "type": "boolean"
        },
        {
         "name": "name",
         "rawType": "object",
         "type": "string"
        },
        {
         "name": "company",
         "rawType": "object",
         "type": "string"
        },
        {
         "name": "blog",
         "rawType": "object",
         "type": "string"
        },
        {
         "name": "location",
         "rawType": "object",
         "type": "string"
        },
        {
         "name": "email",
         "rawType": "object",
         "type": "unknown"
        },
        {
         "name": "hireable",
         "rawType": "object",
         "type": "unknown"
        },
        {
         "name": "bio",
         "rawType": "object",
         "type": "unknown"
        },
        {
         "name": "twitter_username",
         "rawType": "object",
         "type": "unknown"
        },
        {
         "name": "public_repos",
         "rawType": "int64",
         "type": "integer"
        },
        {
         "name": "public_gists",
         "rawType": "int64",
         "type": "integer"
        },
        {
         "name": "followers",
         "rawType": "int64",
         "type": "integer"
        },
        {
         "name": "following",
         "rawType": "int64",
         "type": "integer"
        },
        {
         "name": "created_at",
         "rawType": "object",
         "type": "string"
        },
        {
         "name": "updated_at",
         "rawType": "object",
         "type": "string"
        }
       ],
       "ref": "24e25856-5d24-4b7a-8b2c-85950d2b7fc8",
       "rows": [
        [
         "0",
         "octocat",
         "583231",
         "MDQ6VXNlcjU4MzIzMQ==",
         "https://avatars.githubusercontent.com/u/583231?v=4",
         "",
         "https://api.github.com/users/octocat",
         "https://github.com/octocat",
         "https://api.github.com/users/octocat/followers",
         "https://api.github.com/users/octocat/following{/other_user}",
         "https://api.github.com/users/octocat/gists{/gist_id}",
         "https://api.github.com/users/octocat/starred{/owner}{/repo}",
         "https://api.github.com/users/octocat/subscriptions",
         "https://api.github.com/users/octocat/orgs",
         "https://api.github.com/users/octocat/repos",
         "https://api.github.com/users/octocat/events{/privacy}",
         "https://api.github.com/users/octocat/received_events",
         "User",
         "public",
         "False",
         "The Octocat",
         "@github",
         "https://github.blog",
         "San Francisco",
         null,
         null,
         null,
         null,
         "8",
         "8",
         "18797",
         "9",
         "2011-01-25T18:44:36Z",
         "2025-07-22T11:24:35Z"
        ]
       ],
       "shape": {
        "columns": 33,
        "rows": 1
       }
      },
      "text/html": [
       "<div>\n",
       "<style scoped>\n",
       "    .dataframe tbody tr th:only-of-type {\n",
       "        vertical-align: middle;\n",
       "    }\n",
       "\n",
       "    .dataframe tbody tr th {\n",
       "        vertical-align: top;\n",
       "    }\n",
       "\n",
       "    .dataframe thead th {\n",
       "        text-align: right;\n",
       "    }\n",
       "</style>\n",
       "<table border=\"1\" class=\"dataframe\">\n",
       "  <thead>\n",
       "    <tr style=\"text-align: right;\">\n",
       "      <th></th>\n",
       "      <th>login</th>\n",
       "      <th>id</th>\n",
       "      <th>node_id</th>\n",
       "      <th>avatar_url</th>\n",
       "      <th>gravatar_id</th>\n",
       "      <th>url</th>\n",
       "      <th>html_url</th>\n",
       "      <th>followers_url</th>\n",
       "      <th>following_url</th>\n",
       "      <th>gists_url</th>\n",
       "      <th>...</th>\n",
       "      <th>email</th>\n",
       "      <th>hireable</th>\n",
       "      <th>bio</th>\n",
       "      <th>twitter_username</th>\n",
       "      <th>public_repos</th>\n",
       "      <th>public_gists</th>\n",
       "      <th>followers</th>\n",
       "      <th>following</th>\n",
       "      <th>created_at</th>\n",
       "      <th>updated_at</th>\n",
       "    </tr>\n",
       "  </thead>\n",
       "  <tbody>\n",
       "    <tr>\n",
       "      <th>0</th>\n",
       "      <td>octocat</td>\n",
       "      <td>583231</td>\n",
       "      <td>MDQ6VXNlcjU4MzIzMQ==</td>\n",
       "      <td>https://avatars.githubusercontent.com/u/583231...</td>\n",
       "      <td></td>\n",
       "      <td>https://api.github.com/users/octocat</td>\n",
       "      <td>https://github.com/octocat</td>\n",
       "      <td>https://api.github.com/users/octocat/followers</td>\n",
       "      <td>https://api.github.com/users/octocat/following...</td>\n",
       "      <td>https://api.github.com/users/octocat/gists{/gi...</td>\n",
       "      <td>...</td>\n",
       "      <td>None</td>\n",
       "      <td>None</td>\n",
       "      <td>None</td>\n",
       "      <td>None</td>\n",
       "      <td>8</td>\n",
       "      <td>8</td>\n",
       "      <td>18797</td>\n",
       "      <td>9</td>\n",
       "      <td>2011-01-25T18:44:36Z</td>\n",
       "      <td>2025-07-22T11:24:35Z</td>\n",
       "    </tr>\n",
       "  </tbody>\n",
       "</table>\n",
       "<p>1 rows × 33 columns</p>\n",
       "</div>"
      ],
      "text/plain": [
       "     login      id               node_id  \\\n",
       "0  octocat  583231  MDQ6VXNlcjU4MzIzMQ==   \n",
       "\n",
       "                                          avatar_url gravatar_id  \\\n",
       "0  https://avatars.githubusercontent.com/u/583231...               \n",
       "\n",
       "                                    url                    html_url  \\\n",
       "0  https://api.github.com/users/octocat  https://github.com/octocat   \n",
       "\n",
       "                                    followers_url  \\\n",
       "0  https://api.github.com/users/octocat/followers   \n",
       "\n",
       "                                       following_url  \\\n",
       "0  https://api.github.com/users/octocat/following...   \n",
       "\n",
       "                                           gists_url  ... email hireable  \\\n",
       "0  https://api.github.com/users/octocat/gists{/gi...  ...  None     None   \n",
       "\n",
       "    bio twitter_username public_repos public_gists followers following  \\\n",
       "0  None             None            8            8     18797         9   \n",
       "\n",
       "             created_at            updated_at  \n",
       "0  2011-01-25T18:44:36Z  2025-07-22T11:24:35Z  \n",
       "\n",
       "[1 rows x 33 columns]"
      ]
     },
     "execution_count": 8,
     "metadata": {},
     "output_type": "execute_result"
    }
   ],
   "source": [
    "json_normalize(data, meta=['San Francisco'])"
   ]
  },
  {
   "cell_type": "code",
   "execution_count": 37,
   "id": "ff2312bb",
   "metadata": {},
   "outputs": [
    {
     "name": "stdout",
     "output_type": "stream",
     "text": [
      "{\n",
      "    \"location\": {\n",
      "        \"name\": \"Delhi\",\n",
      "        \"region\": \"Ontario\",\n",
      "        \"country\": \"Canada\",\n",
      "        \"lat\": 42.85,\n",
      "        \"lon\": -80.5,\n",
      "        \"tz_id\": \"America/Toronto\",\n",
      "        \"localtime_epoch\": 1753693621,\n",
      "        \"localtime\": \"2025-07-28 05:07\"\n",
      "    },\n",
      "    \"current\": {\n",
      "        \"last_updated_epoch\": 1753693200,\n",
      "        \"last_updated\": \"2025-07-28 05:00\",\n",
      "        \"temp_c\": 17.1,\n",
      "        \"temp_f\": 62.8,\n",
      "        \"is_day\": 0,\n",
      "        \"condition\": {\n",
      "            \"text\": \"Fog\",\n",
      "            \"icon\": \"//cdn.weatherapi.com/weather/64x64/night/248.png\",\n",
      "            \"code\": 1135\n",
      "        },\n",
      "        \"wind_mph\": 3.8,\n",
      "        \"wind_kph\": 6.1,\n",
      "        \"wind_degree\": 25,\n",
      "        \"wind_dir\": \"NNE\",\n",
      "        \"pressure_mb\": 1019.0,\n",
      "        \"pressure_in\": 30.08,\n",
      "        \"precip_mm\": 0.0,\n",
      "        \"precip_in\": 0.0,\n",
      "        \"humidity\": 100,\n",
      "        \"cloud\": 0,\n",
      "        \"feelslike_c\": 17.1,\n",
      "        \"feelslike_f\": 62.8,\n",
      "        \"windchill_c\": 18.5,\n",
      "        \"windchill_f\": 65.3,\n",
      "        \"heatindex_c\": 18.5,\n",
      "        \"heatindex_f\": 65.4,\n",
      "        \"dewpoint_c\": 18.3,\n",
      "        \"dewpoint_f\": 64.9,\n",
      "        \"vis_km\": 24.0,\n",
      "        \"vis_miles\": 14.0,\n",
      "        \"uv\": 0.0,\n",
      "        \"gust_mph\": 8.0,\n",
      "        \"gust_kph\": 12.9\n",
      "    }\n",
      "}\n",
      "https://api.weatherapi.com/v1/current.json?q=Delhi&key=c6eaeb4c744745758e1131240252307\n",
      "Temperature in Delhi: 17.1 °C\n",
      "6.1\n"
     ]
    }
   ],
   "source": [
    "import requests\n",
    "import os \n",
    "import json\n",
    "from dotenv import load_dotenv\n",
    "\n",
    "load_dotenv()\n",
    "\n",
    "url = \"https://api.weatherapi.com/v1/current.json\"\n",
    "api_key = os.getenv(\"WEATHER_API_KEY\")\n",
    "\n",
    "params = {\n",
    "    \"q\" : \"Delhi\",\n",
    "    \"key\" : api_key\n",
    "    \n",
    "}\n",
    "\n",
    "response = requests.get(url, params=params)\n",
    "weather = response.json()\n",
    "\n",
    "data_str = json.dumps(weather, indent=4)\n",
    "\n",
    "print(data_str)\n",
    "print(response.url)\n",
    "\n",
    "print(\"Temperature in Delhi:\", weather['current']['temp_c'], \"°C\")\n",
    "print(weather['current']['wind_kph'])\n",
    "\n"
   ]
  },
  {
   "cell_type": "code",
   "execution_count": null,
   "id": "b585b399",
   "metadata": {},
   "outputs": [],
   "source": []
  }
 ],
 "metadata": {
  "kernelspec": {
   "display_name": "stack_lp (3.12.5)",
   "language": "python",
   "name": "python3"
  },
  "language_info": {
   "codemirror_mode": {
    "name": "ipython",
    "version": 3
   },
   "file_extension": ".py",
   "mimetype": "text/x-python",
   "name": "python",
   "nbconvert_exporter": "python",
   "pygments_lexer": "ipython3",
   "version": "3.12.5"
  }
 },
 "nbformat": 4,
 "nbformat_minor": 5
}
