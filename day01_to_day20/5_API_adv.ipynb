{
 "cells": [
  {
   "cell_type": "markdown",
   "id": "f2c71b8e",
   "metadata": {},
   "source": [
    "# 📦 **Day 5: API Parameters & Advanced Querying**"
   ]
  },
  {
   "cell_type": "markdown",
   "id": "a987a724",
   "metadata": {},
   "source": [
    "---"
   ]
  },
  {
   "cell_type": "markdown",
   "id": "c02d1bc9",
   "metadata": {},
   "source": [
    "### 🧠 What You'll Learn\n",
    "\n",
    "✅ **Query parameters** (`?key=value`)\n",
    "\n",
    "✅ **Path parameters** (`/users/1/posts`)\n",
    "\n",
    "✅ Filtering, sorting, pagination\n",
    "\n",
    "✅ How APIs customize data returned based on what you send\n",
    "\n",
    "✅ Real-world use cases: search, filters, page navigation"
   ]
  },
  {
   "cell_type": "markdown",
   "metadata": {},
   "source": [
    "---"
   ]
  },
  {
   "cell_type": "markdown",
   "id": "70a97d7e",
   "metadata": {},
   "source": [
    "### 📘 Concept: Parameters in API Calls\n"
   ]
  },
  {
   "cell_type": "markdown",
   "id": "328b6f16",
   "metadata": {},
   "source": [
    "\n",
    "### 🔹 1. **Query Parameters**\n",
    "\n",
    "These go **after** the `?` in the URL.\n",
    "\n",
    "Example:\n",
    "\n",
    "```bash\n",
    "https://api.example.com/products?category=books&limit=10\n",
    "```\n",
    "\n",
    "This tells the API:\n",
    "\n",
    "- `category = books`\n",
    "- `limit = 10 results`\n",
    "\n",
    "📎🧠 Analogy Time:\n",
    "\n",
    "> Think of query parameters like ordering food online:\n",
    "\n",
    "- Website: `https://pizza.com/menu`\n",
    "- You want only veg, medium size, sorted by price:\n",
    "    \n",
    "    → `https://pizza.com/menu?type=veg&size=medium&sort=price`\n",
    "    \n",
    "Just like filters in Swiggy/Zomato! 🍕🎯"
   ]
  },
  {
   "cell_type": "markdown",
   "id": "a0e51a21",
   "metadata": {},
   "source": [
    "### 🔹 2. **Path Parameters**\n",
    "\n",
    "These are **part of the URL path** and represent resource IDs or sub-resources.\n",
    "\n",
    "```bash\n",
    "https://api.example.com/users/3/orders\n",
    "```\n",
    "\n",
    "This requests all orders of user `3`."
   ]
  },
  {
   "cell_type": "markdown",
   "metadata": {},
   "source": [
    "### 🔹 3. **Pagination Parameters**\n",
    "\n",
    "Large datasets are often split into pages. Common parameters:\n",
    "\n",
    "- `limit` or `per_page`\n",
    "- `page` or `offset`\n",
    "\n",
    "Many APIs return only a few results at a time, and give you the next page like this:\n",
    "```bash\n",
    "https://api.example.com/posts?limit=5&page=2\n",
    "```\n",
    "\n",
    "🧠 Analogy: YouTube Comments\n",
    "\n",
    "> You’re scrolling comments. After 20, it says \"Load more\".\n",
    "\n",
    "That’s pagination! You're loading data in **chunks** to save bandwidth and keep things fast."
   ]
  },
  {
   "cell_type": "markdown",
   "id": "f643c098",
   "metadata": {},
   "source": [
    "---"
   ]
  },
  {
   "cell_type": "markdown",
   "id": "34d2c6c2",
   "metadata": {},
   "source": [
    "### 🛠️ Code Examples (JSONPlaceholder API)"
   ]
  },
  {
   "cell_type": "code",
   "execution_count": 1,
   "id": "25dbe105",
   "metadata": {},
   "outputs": [
    {
     "name": "stdout",
     "output_type": "stream",
     "text": [
      "{'userId': 1, 'id': 1, 'title': 'sunt aut facere repellat provident occaecati excepturi optio reprehenderit', 'body': 'quia et suscipit\\nsuscipit recusandae consequuntur expedita et cum\\nreprehenderit molestiae ut ut quas totam\\nnostrum rerum est autem sunt rem eveniet architecto'}\n",
      "{'userId': 1, 'id': 1, 'title': 'sunt aut facere repellat provident occaecati excepturi optio reprehenderit', 'body': 'quia et suscipit\\nsuscipit recusandae consequuntur expedita et cum\\nreprehenderit molestiae ut ut quas totam\\nnostrum rerum est autem sunt rem eveniet architecto'}\n"
     ]
    }
   ],
   "source": [
    "import requests\n",
    "\n",
    "# 1. Posts by a specific user (path param)\n",
    "res = requests.get(\"https://jsonplaceholder.typicode.com/users/1/posts\")\n",
    "print(res.json()[0])\n",
    "\n",
    "# 2. Filter posts by userId using query param\n",
    "res = requests.get(\"https://jsonplaceholder.typicode.com/posts\", params={\"userId\": 1})\n",
    "print(res.json()[0])\n"
   ]
  },
  {
   "cell_type": "markdown",
   "id": "18e32716",
   "metadata": {},
   "source": [
    "---"
   ]
  },
  {
   "cell_type": "markdown",
   "id": "32389cab",
   "metadata": {},
   "source": [
    "### 🌐 Real-World Examples\n",
    "\n",
    "| Use Case | URL Example |\n",
    "| --- | --- |\n",
    "| Google Books Search | `https://www.googleapis.com/books/v1/volumes?q=harry+potter` |\n",
    "| GitHub repo sort | `https://api.github.com/users/torvalds/repos?sort=updated` |\n",
    "| YouTube Search API | `https://www.googleapis.com/youtube/v3/search?q=python&key=YOUR_KEY` |"
   ]
  },
  {
   "cell_type": "markdown",
   "id": "3a5a54c4",
   "metadata": {},
   "source": [
    "---"
   ]
  },
  {
   "cell_type": "markdown",
   "id": "db4ea04f",
   "metadata": {},
   "source": [
    "### Task : "
   ]
  },
  {
   "cell_type": "code",
   "execution_count": 2,
   "id": "3f646373",
   "metadata": {},
   "outputs": [
    {
     "name": "stdout",
     "output_type": "stream",
     "text": [
      "{'userId': 1, 'id': 3, 'title': 'ea molestias quasi exercitationem repellat qui ipsa sit aut', 'body': 'et iusto sed quo iure\\nvoluptatem occaecati omnis eligendi aut ad\\nvoluptatem doloribus vel accusantium quis pariatur\\nmolestiae porro eius odio et labore et velit aut'}\n",
      "{'userId': 1, 'id': 3, 'title': 'ea molestias quasi exercitationem repellat qui ipsa sit aut', 'body': 'et iusto sed quo iure\\nvoluptatem occaecati omnis eligendi aut ad\\nvoluptatem doloribus vel accusantium quis pariatur\\nmolestiae porro eius odio et labore et velit aut'}\n",
      "[{'postId': 5, 'id': 21, 'name': 'aliquid rerum mollitia qui a consectetur eum sed', 'email': 'Noemie@marques.me', 'body': 'deleniti aut sed molestias explicabo\\ncommodi odio ratione nesciunt\\nvoluptate doloremque est\\nnam autem error delectus'}, {'postId': 5, 'id': 22, 'name': 'porro repellendus aut tempore quis hic', 'email': 'Khalil@emile.co.uk', 'body': 'qui ipsa animi nostrum praesentium voluptatibus odit\\nqui non impedit cum qui nostrum aliquid fuga explicabo\\nvoluptatem fugit earum voluptas exercitationem temporibus dignissimos distinctio\\nesse inventore reprehenderit quidem ut incidunt nihil necessitatibus rerum'}, {'postId': 5, 'id': 23, 'name': 'quis tempora quidem nihil iste', 'email': 'Sophia@arianna.co.uk', 'body': 'voluptates provident repellendus iusto perspiciatis ex fugiat ut\\nut dolor nam aliquid et expedita voluptate\\nsunt vitae illo rerum in quos\\nvel eligendi enim quae fugiat est'}, {'postId': 5, 'id': 24, 'name': 'in tempore eos beatae est', 'email': 'Jeffery@juwan.us', 'body': 'repudiandae repellat quia\\nsequi est dolore explicabo nihil et\\net sit et\\net praesentium iste atque asperiores tenetur'}, {'postId': 5, 'id': 25, 'name': 'autem ab ea sit alias hic provident sit', 'email': 'Isaias_Kuhic@jarrett.net', 'body': 'sunt aut quae laboriosam sit ut impedit\\nadipisci harum laborum totam deleniti voluptas odit rem ea\\nnon iure distinctio ut velit doloribus\\net non ex'}]\n",
      "[{'postId': 5, 'id': 21, 'name': 'aliquid rerum mollitia qui a consectetur eum sed', 'email': 'Noemie@marques.me', 'body': 'deleniti aut sed molestias explicabo\\ncommodi odio ratione nesciunt\\nvoluptate doloremque est\\nnam autem error delectus'}, {'postId': 5, 'id': 22, 'name': 'porro repellendus aut tempore quis hic', 'email': 'Khalil@emile.co.uk', 'body': 'qui ipsa animi nostrum praesentium voluptatibus odit\\nqui non impedit cum qui nostrum aliquid fuga explicabo\\nvoluptatem fugit earum voluptas exercitationem temporibus dignissimos distinctio\\nesse inventore reprehenderit quidem ut incidunt nihil necessitatibus rerum'}, {'postId': 5, 'id': 23, 'name': 'quis tempora quidem nihil iste', 'email': 'Sophia@arianna.co.uk', 'body': 'voluptates provident repellendus iusto perspiciatis ex fugiat ut\\nut dolor nam aliquid et expedita voluptate\\nsunt vitae illo rerum in quos\\nvel eligendi enim quae fugiat est'}, {'postId': 5, 'id': 24, 'name': 'in tempore eos beatae est', 'email': 'Jeffery@juwan.us', 'body': 'repudiandae repellat quia\\nsequi est dolore explicabo nihil et\\net sit et\\net praesentium iste atque asperiores tenetur'}, {'postId': 5, 'id': 25, 'name': 'autem ab ea sit alias hic provident sit', 'email': 'Isaias_Kuhic@jarrett.net', 'body': 'sunt aut quae laboriosam sit ut impedit\\nadipisci harum laborum totam deleniti voluptas odit rem ea\\nnon iure distinctio ut velit doloribus\\net non ex'}]\n",
      "[{'userId': 7, 'id': 121, 'title': 'inventore aut nihil minima laudantium hic qui omnis', 'completed': True}, {'userId': 7, 'id': 122, 'title': 'provident aut nobis culpa', 'completed': True}, {'userId': 7, 'id': 123, 'title': 'esse et quis iste est earum aut impedit', 'completed': False}, {'userId': 7, 'id': 124, 'title': 'qui consectetur id', 'completed': False}, {'userId': 7, 'id': 125, 'title': 'aut quasi autem iste tempore illum possimus', 'completed': False}, {'userId': 7, 'id': 126, 'title': 'ut asperiores perspiciatis veniam ipsum rerum saepe', 'completed': True}, {'userId': 7, 'id': 127, 'title': 'voluptatem libero consectetur rerum ut', 'completed': True}, {'userId': 7, 'id': 128, 'title': 'eius omnis est qui voluptatem autem', 'completed': False}, {'userId': 7, 'id': 129, 'title': 'rerum culpa quis harum', 'completed': False}, {'userId': 7, 'id': 130, 'title': 'nulla aliquid eveniet harum laborum libero alias ut unde', 'completed': True}, {'userId': 7, 'id': 131, 'title': 'qui ea incidunt quis', 'completed': False}, {'userId': 7, 'id': 132, 'title': 'qui molestiae voluptatibus velit iure harum quisquam', 'completed': True}, {'userId': 7, 'id': 133, 'title': 'et labore eos enim rerum consequatur sunt', 'completed': True}, {'userId': 7, 'id': 134, 'title': 'molestiae doloribus et laborum quod ea', 'completed': False}, {'userId': 7, 'id': 135, 'title': 'facere ipsa nam eum voluptates reiciendis vero qui', 'completed': False}, {'userId': 7, 'id': 136, 'title': 'asperiores illo tempora fuga sed ut quasi adipisci', 'completed': False}, {'userId': 7, 'id': 137, 'title': 'qui sit non', 'completed': False}, {'userId': 7, 'id': 138, 'title': 'placeat minima consequatur rem qui ut', 'completed': True}, {'userId': 7, 'id': 139, 'title': 'consequatur doloribus id possimus voluptas a voluptatem', 'completed': False}, {'userId': 7, 'id': 140, 'title': 'aut consectetur in blanditiis deserunt quia sed laboriosam', 'completed': True}]\n"
     ]
    }
   ],
   "source": [
    "import requests \n",
    "\n",
    "post_id_3_query = requests.get(\"https://jsonplaceholder.typicode.com/posts\", params={'id':3})\n",
    "post_id_3_path = requests.get(\"https://jsonplaceholder.typicode.com/posts/3\")\n",
    "\n",
    "print(post_id_3_query.json()[0])\n",
    "print(post_id_3_path.json())\n",
    "\n",
    "# -------------------------------------------------------------------------------------------------------------\n",
    "\n",
    "comment_postId_3_query = requests.get(\"https://jsonplaceholder.typicode.com/comments\", params={'postId':5})\n",
    "comment_postId_3_path = requests.get(\"https://jsonplaceholder.typicode.com/comments?postId=5\")\n",
    "\n",
    "print(comment_postId_3_query.json())\n",
    "print(comment_postId_3_path.json())\n",
    "\n",
    "# -------------------------------------------------------------------------------------------------------------\n",
    "\n",
    "todos_userId_7_query = requests.get(\"https://jsonplaceholder.typicode.com/todos\", params={'userId':7})\n",
    "\n",
    "print(todos_userId_7_query.json())\n",
    "\n"
   ]
  },
  {
   "cell_type": "markdown",
   "id": "6abbd773",
   "metadata": {},
   "source": [
    "#### ➤ What’s the difference between `/posts/1/comments` and `/comments?postId=1`?\n",
    "\n",
    "- `/posts/1/comments`: Gets all comments **belonging to postId 1** using RESTful nested route.\n",
    "- `/comments?postId=1`: Filters the **entire comments list** where `postId=1`. It’s a query-based filter.\n",
    "\n",
    "🟢 Both give similar results in this API, but the style and endpoint logic differ.\n"
   ]
  },
  {
   "cell_type": "markdown",
   "id": "a565d150",
   "metadata": {},
   "source": [
    "---"
   ]
  },
  {
   "cell_type": "markdown",
   "id": "70456af1",
   "metadata": {},
   "source": [
    "### 📝 Summary\n",
    "\n",
    "- **Query Parameters** = filters, search, limits (`?key=value`)\n",
    "- **Path Parameters** = direct resource targeting (`/users/1/posts`)\n",
    "- APIs often support both — knowing how to use them unlocks powerful querying."
   ]
  }
 ],
 "metadata": {
  "kernelspec": {
   "display_name": "stack_lp (3.12.5)",
   "language": "python",
   "name": "python3"
  },
  "language_info": {
   "codemirror_mode": {
    "name": "ipython",
    "version": 3
   },
   "file_extension": ".py",
   "mimetype": "text/x-python",
   "name": "python",
   "nbconvert_exporter": "python",
   "pygments_lexer": "ipython3",
   "version": "3.12.5"
  }
 },
 "nbformat": 4,
 "nbformat_minor": 5
}
