{
 "cells": [
  {
   "cell_type": "markdown",
   "id": "519fb255",
   "metadata": {},
   "source": [
    "# ➕ **Day 15: Streamlit + API Integration**"
   ]
  },
  {
   "cell_type": "markdown",
   "id": "c349bbbc",
   "metadata": {},
   "source": [
    "**Topic:**\n",
    "\n",
    "Building interactive data apps using Streamlit and live APIs\n",
    "\n",
    "**Goal:**\n",
    "\n",
    "Learn to use Streamlit with real APIs to build an interactive frontend without a heavy backend."
   ]
  },
  {
   "cell_type": "markdown",
   "id": "47b55ea1",
   "metadata": {},
   "source": [
    "---"
   ]
  },
  {
   "cell_type": "markdown",
   "id": "8d8829ba",
   "metadata": {},
   "source": [
    "## 🖥️ **Basic Display Functions**\n",
    "\n",
    "| Function | Description |\n",
    "| --- | --- |\n",
    "| `st.title(text)` | Displays a large title. |\n",
    "| `st.header(text)` | Displays a header (smaller than title). |\n",
    "| `st.subheader(text)` | Displays a subheader (smaller than header). |\n",
    "| `st.text(text)` | Displays plain text. |\n",
    "| `st.markdown(md_text)` | Renders text with Markdown formatting. |\n",
    "| `st.latex(latex_string)` | Displays LaTeX-formatted math. |\n",
    "| `st.code(code, language='python')` | Renders code with optional syntax highlighting. |\n",
    "| `st.write(object)` | Smart function to render text, dataframes, plots, etc. |"
   ]
  },
  {
   "cell_type": "markdown",
   "id": "afb1903c",
   "metadata": {},
   "source": [
    "## 🎛️ **Input Widgets**\n",
    "\n",
    "| Function | Description |\n",
    "| --- | --- |\n",
    "| `st.button(label)` | Returns `True` if clicked. |\n",
    "| `st.text_input(label, value='')` | Single-line text input. |\n",
    "| `st.text_area(label, value='')` | Multi-line text input. |\n",
    "| `st.number_input(label, min_value, max_value, step)` | Numeric input with stepper. |\n",
    "| `st.slider(label, min, max, value)` | Slider for number selection. |\n",
    "| `st.selectbox(label, options)` | Dropdown menu; returns selected value. |\n",
    "| `st.multiselect(label, options)` | Allows selecting multiple values. |\n",
    "| `st.checkbox(label)` | Returns `True` if checked. |\n",
    "| `st.radio(label, options)` | Returns selected radio button. |\n",
    "| `st.date_input(label)` | Returns a selected date. |\n",
    "| `st.time_input(label)` | Returns a selected time. |\n",
    "| `st.file_uploader(label)` | Uploads a file. Returns uploaded file. |"
   ]
  },
  {
   "cell_type": "markdown",
   "id": "bcc630ce",
   "metadata": {},
   "source": [
    "## 📊 **Data Display**\n",
    "\n",
    "| Function | Description |\n",
    "| --- | --- |\n",
    "| `st.dataframe(data)` | Shows an interactive dataframe. |\n",
    "| `st.table(data)` | Shows a static table. |\n",
    "| `st.json(data)` | Nicely formats JSON data. |\n",
    "| `st.metric(label, value, delta)` | Show key performance indicators (KPIs). |"
   ]
  },
  {
   "cell_type": "markdown",
   "id": "da6aee78",
   "metadata": {},
   "source": [
    "## 📈 **Charts and Plots**\n",
    "\n",
    "| Function | Description |\n",
    "| --- | --- |\n",
    "| `st.line_chart(data)` | Line chart (auto from pandas/NumPy). |\n",
    "| `st.bar_chart(data)` | Bar chart. |\n",
    "| `st.area_chart(data)` | Area chart. |\n",
    "| `st.pyplot(fig)` | Displays a Matplotlib figure. |\n",
    "| `st.plotly_chart(fig)` | Displays a Plotly figure. |\n",
    "| `st.altair_chart(chart)` | Displays Altair chart. |\n",
    "| `st.map(df)` | Plots points on a map from lat/long. |"
   ]
  },
  {
   "cell_type": "markdown",
   "id": "90a6e948",
   "metadata": {},
   "source": [
    "## 🧰 **Utilities**\n",
    "\n",
    "| Function | Description |\n",
    "| --- | --- |\n",
    "| `st.sidebar.<function>()` | Render widgets in sidebar. Example: `st.sidebar.selectbox()` |\n",
    "| `st.spinner(text)` | Shows a loading spinner with message. |\n",
    "| `st.success(text)` | Green success message. |\n",
    "| `st.warning(text)` | Yellow warning message. |\n",
    "| `st.error(text)` | Red error message. |\n",
    "| `st.exception(e)` | Prints exception with traceback. |\n",
    "| `st.progress(value)` | Show progress bar (0.0 to 1.0). |\n",
    "| `st.balloons()` | 🎈 Celebration animation. |\n",
    "| `st.toast(text)` | Temporary pop-up message. |\n",
    "| `st.session_state` | Stores session-level variables. |"
   ]
  },
  {
   "cell_type": "markdown",
   "id": "a219e048",
   "metadata": {},
   "source": [
    "## 📦 **Secrets Management (for deployment)**\n",
    "\n",
    "| Function | Description |\n",
    "| --- | --- |\n",
    "| `st.secrets[\"key\"]` | Securely access API keys and tokens from `.streamlit/secrets.toml`. |"
   ]
  },
  {
   "cell_type": "markdown",
   "id": "10f79078",
   "metadata": {},
   "source": [
    "---"
   ]
  },
  {
   "cell_type": "markdown",
   "id": "42b7177e",
   "metadata": {},
   "source": [
    "## 📝 Summary:\n",
    "\n",
    "- Streamlit is a powerful Python tool to convert scripts to web apps\n",
    "- API integration is seamless using `requests`\n",
    "- Use sidebar and markdown to improve user experience\n",
    "- Can be deployed and shared easily"
   ]
  }
 ],
 "metadata": {
  "kernelspec": {
   "display_name": "stack_lp (3.12.5)",
   "language": "python",
   "name": "python3"
  },
  "language_info": {
   "name": "python",
   "version": "3.12.5"
  }
 },
 "nbformat": 4,
 "nbformat_minor": 5
}
