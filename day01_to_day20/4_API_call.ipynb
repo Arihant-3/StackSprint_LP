{
 "cells": [
  {
   "cell_type": "markdown",
   "id": "0fad7250",
   "metadata": {},
   "source": [
    "# 📘 **Day 4: Making My First API Call in Python**"
   ]
  },
  {
   "cell_type": "markdown",
   "id": "5cb7170c",
   "metadata": {},
   "source": [
    "---"
   ]
  },
  {
   "cell_type": "markdown",
   "id": "cf1a41f9",
   "metadata": {},
   "source": [
    "### 🧠 Goal of the Day:\n",
    "\n",
    "- Learn how to send a **GET request** to a public API using Python\n",
    "- Receive and **parse the JSON response**\n",
    "- Understand how to explore and extract useful info from it"
   ]
  },
  {
   "cell_type": "markdown",
   "id": "9a56274a",
   "metadata": {},
   "source": [
    "---"
   ]
  },
  {
   "cell_type": "markdown",
   "id": "6508f99b",
   "metadata": {},
   "source": [
    "## 🔧 Tool: `requests` library\n",
    "\n",
    "The `requests` module is a beginner-friendly HTTP library for Python."
   ]
  },
  {
   "cell_type": "markdown",
   "id": "53c3b73f",
   "metadata": {},
   "source": [
    "---"
   ]
  },
  {
   "cell_type": "markdown",
   "id": "b585ef16",
   "metadata": {},
   "source": [
    "### 🌐 **Step-by-Step API Call**"
   ]
  },
  {
   "cell_type": "code",
   "execution_count": 20,
   "id": "7ecb88d8",
   "metadata": {},
   "outputs": [
    {
     "name": "stdout",
     "output_type": "stream",
     "text": [
      "Status code: 200\n",
      "True\n",
      "Name: Leanne Graham\n",
      "Email: Sincere@april.biz\n",
      "City: Gwenborough\n"
     ]
    }
   ],
   "source": [
    "import requests\n",
    "\n",
    "# Define the URL of the API endpoint\n",
    "url = \"https://jsonplaceholder.typicode.com/users/1\"\n",
    "\n",
    "# Send a GET request\n",
    "response = requests.get(url)\n",
    "\n",
    "# Check if request was successful\n",
    "print(\"Status code:\", response.status_code)\n",
    "print(response.ok)\n",
    "\n",
    "# Parse the response as JSON\n",
    "data = response.json()\n",
    "\n",
    "# Print some values\n",
    "print(\"Name:\", data[\"name\"])\n",
    "print(\"Email:\", data[\"email\"])\n",
    "print(\"City:\", data[\"address\"][\"city\"])\n"
   ]
  },
  {
   "cell_type": "markdown",
   "id": "c9197708",
   "metadata": {},
   "source": [
    "---"
   ]
  },
  {
   "cell_type": "markdown",
   "id": "1bb727a6",
   "metadata": {},
   "source": [
    "### 🧠 Key Concepts\n",
    "\n",
    "| Term | What it Means |\n",
    "| --- | --- |\n",
    "| `GET` | Request data from the server |\n",
    "| `200 OK` | Successful response |\n",
    "| `.json()` | Converts the response to a Python dict |\n",
    "| `url` | Endpoint that gives us data |"
   ]
  },
  {
   "cell_type": "markdown",
   "id": "06fd4f75",
   "metadata": {},
   "source": [
    "---"
   ]
  },
  {
   "cell_type": "markdown",
   "id": "878e9b25",
   "metadata": {},
   "source": [
    "### 💡 **Real-World Example: Weather API**"
   ]
  },
  {
   "cell_type": "code",
   "execution_count": null,
   "id": "742b7d3f",
   "metadata": {},
   "outputs": [
    {
     "name": "stdout",
     "output_type": "stream",
     "text": [
      "Temperature in Delhi: 21.7 °C\n",
      "https://api.weatherapi.com/v1/current.json?key=c6eaeb4c744745758e1131240252307&q=Delhi\n"
     ]
    }
   ],
   "source": [
    "import requests\n",
    "import os \n",
    "from dotenv import load_dotenv\n",
    "\n",
    "load_dotenv()\n",
    "\n",
    "url = \"https://api.weatherapi.com/v1/current.json\"\n",
    "api_key = os.getenv(\"WEATHER_API_KEY\")\n",
    "\n",
    "params = {\n",
    "    \"key\" : api_key,\n",
    "    \"q\" : \"Delhi\"\n",
    "}\n",
    "\n",
    "response = requests.get(url, params=params)\n",
    "weather = response.json()\n",
    "\n",
    "print(\"Temperature in Delhi:\", weather['current']['temp_c'], \"°C\")\n",
    "print(response.url)"
   ]
  },
  {
   "cell_type": "markdown",
   "id": "a7abc1f4",
   "metadata": {},
   "source": [
    "---"
   ]
  },
  {
   "cell_type": "markdown",
   "id": "24c8ce5e",
   "metadata": {},
   "source": [
    "### Task :"
   ]
  },
  {
   "cell_type": "code",
   "execution_count": 30,
   "id": "ef640d2b",
   "metadata": {},
   "outputs": [
    {
     "name": "stdout",
     "output_type": "stream",
     "text": [
      "https://jsonplaceholder.typicode.com/users/3\n",
      "{'id': 3, 'name': 'Clementine Bauch', 'username': 'Samantha', 'email': 'Nathan@yesenia.net', 'address': {'street': 'Douglas Extension', 'suite': 'Suite 847', 'city': 'McKenziehaven', 'zipcode': '59590-4157', 'geo': {'lat': '-68.6102', 'lng': '-47.0653'}}, 'phone': '1-463-123-4447', 'website': 'ramiro.info', 'company': {'name': 'Romaguera-Jacobson', 'catchPhrase': 'Face to face bifurcated interface', 'bs': 'e-enable strategic applications'}}\n",
      "Name: Clementine Bauch\n",
      "Website: ramiro.info\n",
      "Location: {'lat': '-68.6102', 'lng': '-47.0653'}\n"
     ]
    }
   ],
   "source": [
    "import requests\n",
    "\n",
    "url_3 = \"https://jsonplaceholder.typicode.com/users/3\"\n",
    "url_todos_2 = \"https://jsonplaceholder.typicode.com/todos/2\"\n",
    "url_post_3 = \"https://jsonplaceholder.typicode.com/posts/3\"\n",
    "\n",
    "response = requests.get(url_3)\n",
    "data = response.json()\n",
    "\n",
    "print(response.url)\n",
    "print(data)\n",
    "print('Name:', data['name'])\n",
    "print('Website:', data['website'])\n",
    "print('Location:', data['address']['geo'])"
   ]
  },
  {
   "cell_type": "markdown",
   "id": "06055d16",
   "metadata": {},
   "source": [
    "---"
   ]
  },
  {
   "cell_type": "markdown",
   "id": "f7698b18",
   "metadata": {},
   "source": [
    "Credit and resources -  \n",
    "\n",
    "[🎥 How to use requests in Python (Corey Schafer)](https://www.youtube.com/watch?v=tb8gHvYlCFs)\n",
    "\n",
    "[📙 Request Docs](https://requests.readthedocs.io/en/latest/user/quickstart/)\n"
   ]
  }
 ],
 "metadata": {
  "kernelspec": {
   "display_name": "stack_lp (3.12.5)",
   "language": "python",
   "name": "python3"
  },
  "language_info": {
   "codemirror_mode": {
    "name": "ipython",
    "version": 3
   },
   "file_extension": ".py",
   "mimetype": "text/x-python",
   "name": "python",
   "nbconvert_exporter": "python",
   "pygments_lexer": "ipython3",
   "version": "3.12.5"
  }
 },
 "nbformat": 4,
 "nbformat_minor": 5
}
