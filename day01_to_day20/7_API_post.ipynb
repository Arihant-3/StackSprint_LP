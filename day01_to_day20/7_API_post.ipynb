{
 "cells": [
  {
   "cell_type": "markdown",
   "id": "e54e50cb",
   "metadata": {},
   "source": [
    "# 🧠 **Day 7: Sending Data with POST Requests**"
   ]
  },
  {
   "cell_type": "markdown",
   "id": "8a1e8258",
   "metadata": {},
   "source": [
    "**Focus**: Understand how to *send data to an API*, not just read it. This is how you \"talk back\" to servers — like submitting forms, sending messages, or creating user accounts."
   ]
  },
  {
   "cell_type": "markdown",
   "id": "8b8a34f4",
   "metadata": {},
   "source": [
    "---"
   ]
  },
  {
   "cell_type": "markdown",
   "id": "10c62e9d",
   "metadata": {},
   "source": [
    "## 🧩 Why POST Requests Matter\n",
    "\n",
    "When you:\n",
    "\n",
    "- Sign up on a website\n",
    "- Fill out a form\n",
    "- Upload a file\n",
    "    \n",
    "    You're sending data to the server. That’s done using **POST** (or sometimes PUT/PATCH)."
   ]
  },
  {
   "cell_type": "markdown",
   "id": "fd903673",
   "metadata": {},
   "source": [
    "---"
   ]
  },
  {
   "cell_type": "markdown",
   "id": "80b94f11",
   "metadata": {},
   "source": [
    "## 🔧 Syntax Overview with `requests`\n",
    "\n",
    "```python\n",
    "import requests\n",
    "\n",
    "url = \"https://jsonplaceholder.typicode.com/posts\"\n",
    "\n",
    "payload = {\n",
    "    \"title\": \"Hello API\",\n",
    "    \"body\": \"This is my first POST request.\",\n",
    "    \"userId\": 1\n",
    "}\n",
    "\n",
    "response = requests.post(url, json=payload)\n",
    "\n",
    "print(response.status_code)    # Should be 201 (Created)\n",
    "print(response.json())         # Server's response back to us\n",
    "\n",
    "```\n",
    "\n",
    "### 💡 Notes:\n",
    "\n",
    "- `json=payload`: Automatically serializes Python dict to JSON\n",
    "- You can also use `data=payload`, but that sends as form-encoded\n",
    "- Status Code `201` means: *Created successfully*"
   ]
  },
  {
   "cell_type": "markdown",
   "id": "47fa94fb",
   "metadata": {},
   "source": [
    "---"
   ]
  },
  {
   "cell_type": "markdown",
   "id": "cf039588",
   "metadata": {},
   "source": [
    "- Test API:  \n",
    "https://jsonplaceholder.typicode.com/comments"
   ]
  },
  {
   "cell_type": "markdown",
   "id": "904a054b",
   "metadata": {},
   "source": [
    "### Task 1 :"
   ]
  },
  {
   "cell_type": "code",
   "execution_count": 1,
   "id": "3da32b71",
   "metadata": {},
   "outputs": [
    {
     "name": "stdout",
     "output_type": "stream",
     "text": [
      "201\n"
     ]
    },
    {
     "data": {
      "text/plain": [
       "{'title': 'My API Journey',\n",
       " 'body': 'Learning to send data',\n",
       " 'userId': 99,\n",
       " 'id': 501}"
      ]
     },
     "execution_count": 1,
     "metadata": {},
     "output_type": "execute_result"
    }
   ],
   "source": [
    "import requests\n",
    "\n",
    "url = 'https://jsonplaceholder.typicode.com/comments'\n",
    "\n",
    "payload = {\n",
    "    'title' : 'My API Journey',\n",
    "    'body' : 'Learning to send data',\n",
    "    'userId' : 99 \n",
    "}\n",
    "\n",
    "response = requests.post(url, json=payload)\n",
    "\n",
    "print(response.status_code)\n",
    "response.json()\n"
   ]
  },
  {
   "cell_type": "markdown",
   "id": "f3935a13",
   "metadata": {},
   "source": [
    "### Task 2 :"
   ]
  },
  {
   "cell_type": "code",
   "execution_count": 7,
   "id": "2dd9d71c",
   "metadata": {},
   "outputs": [
    {
     "data": {
      "text/plain": [
       "{'title': 'My API Journey',\n",
       " 'body': 'Learning to send data',\n",
       " 'userId': '99',\n",
       " 'id': 501}"
      ]
     },
     "execution_count": 7,
     "metadata": {},
     "output_type": "execute_result"
    }
   ],
   "source": [
    "response_data = requests.post(url, data=payload)\n",
    "\n",
    "response_data.json()"
   ]
  },
  {
   "cell_type": "code",
   "execution_count": 17,
   "id": "f5d1f58a",
   "metadata": {},
   "outputs": [
    {
     "name": "stdout",
     "output_type": "stream",
     "text": [
      "<class 'requests.models.Response'>\n",
      "<class 'requests.models.Response'>\n"
     ]
    }
   ],
   "source": [
    "print(type(response))\n",
    "print(type(response_data))"
   ]
  },
  {
   "cell_type": "code",
   "execution_count": 15,
   "id": "fb9efea9",
   "metadata": {},
   "outputs": [
    {
     "name": "stdout",
     "output_type": "stream",
     "text": [
      "utf-8\n",
      "utf-8\n"
     ]
    }
   ],
   "source": [
    "print(response.encoding)\n",
    "print(response_data.encoding)"
   ]
  },
  {
   "cell_type": "markdown",
   "id": "fa6d71b1",
   "metadata": {},
   "source": [
    "### Task 3 :"
   ]
  },
  {
   "cell_type": "code",
   "execution_count": 8,
   "id": "40ec9989",
   "metadata": {},
   "outputs": [
    {
     "name": "stdout",
     "output_type": "stream",
     "text": [
      "{'User-Agent': 'python-requests/2.32.4', 'Accept-Encoding': 'gzip, deflate', 'Accept': '*/*', 'Connection': 'keep-alive', 'Content-Length': '74', 'Content-Type': 'application/json'}\n"
     ]
    }
   ],
   "source": [
    "print(response.request.headers)"
   ]
  },
  {
   "cell_type": "code",
   "execution_count": 18,
   "id": "51350148",
   "metadata": {},
   "outputs": [
    {
     "name": "stdout",
     "output_type": "stream",
     "text": [
      "{'User-Agent': 'python-requests/2.32.4', 'Accept-Encoding': 'gzip, deflate', 'Accept': '*/*', 'Connection': 'keep-alive', 'Content-Length': '57', 'Content-Type': 'application/x-www-form-urlencoded'}\n"
     ]
    }
   ],
   "source": [
    "print(response_data.request.headers)"
   ]
  },
  {
   "cell_type": "markdown",
   "id": "d49a2a30",
   "metadata": {},
   "source": [
    "- request.headers gives the metadata of the request post by users or developers"
   ]
  },
  {
   "cell_type": "markdown",
   "id": "2436d9c4",
   "metadata": {},
   "source": [
    "### Task 4 :"
   ]
  },
  {
   "cell_type": "code",
   "execution_count": 9,
   "id": "a9bb5d37",
   "metadata": {},
   "outputs": [
    {
     "name": "stdout",
     "output_type": "stream",
     "text": [
      "Created\n"
     ]
    }
   ],
   "source": [
    "# Print the status code meaning using http.HTTPStatus module:\n",
    "\n",
    "from http import HTTPStatus\n",
    "\n",
    "print(HTTPStatus(response.status_code).phrase)"
   ]
  },
  {
   "cell_type": "markdown",
   "id": "87bc3602",
   "metadata": {},
   "source": [
    "### 🔍 Deeper Context: `json=` vs `data=` in `requests.post()`\n",
    "\n",
    "| Feature | `json=` | `data=` |\n",
    "| --- | --- | --- |\n",
    "| 📤 Format of data sent | JSON (application/json) | Form data (application/x-www-form-urlencoded) |\n",
    "| 🛠️ Encoding | `requests` converts dict → JSON | Sends key-value pairs as form-encoded |\n",
    "| 📄 Content-Type Header | Automatically set to `application/json` | Automatically set to `application/x-www-form-urlencoded` |\n",
    "| 📡 Used when | Sending structured data (APIs, JSON REST APIs) | Sending form-like data (HTML forms, legacy APIs) |\n",
    "| 🪄 Automatic parsing | Yes (via `json.loads()` internally) | No, just sends as-is |\n",
    "| 🧪 Example raw body | `{\"key\": \"value\"}` | `key=value` |\n",
    "\n",
    "#### ✅ Summary:\n",
    " \n",
    "- Use `json=` when interacting with modern REST APIs.\n",
    "- Use `data=` for form submissions or older APIs."
   ]
  },
  {
   "cell_type": "markdown",
   "id": "07d003ed",
   "metadata": {},
   "source": [
    "---"
   ]
  },
  {
   "cell_type": "markdown",
   "id": "60fcedde",
   "metadata": {},
   "source": [
    "### 🧠 More Concepts :"
   ]
  },
  {
   "cell_type": "markdown",
   "id": "28e3e572",
   "metadata": {},
   "source": [
    "### **Other HTTP Methods**\n",
    "\n",
    "Learned `GET` and `POST`:  \n",
    "More -\n",
    "- `PUT` – Update entire resource\n",
    "- `PATCH` – Update part of resource\n",
    "- `DELETE` – Remove a resource"
   ]
  },
  {
   "cell_type": "markdown",
   "id": "1f1dd43d",
   "metadata": {},
   "source": [
    "#### Sending Files"
   ]
  },
  {
   "cell_type": "code",
   "execution_count": 30,
   "id": "0b981603",
   "metadata": {},
   "outputs": [],
   "source": [
    "files = {'file': open('sample.txt', 'rb')}\n",
    "response_file = requests.post(url, files=files)"
   ]
  },
  {
   "cell_type": "markdown",
   "id": "0a9b1545",
   "metadata": {},
   "source": [
    "#### Custom Headers\n",
    "- APIs often require tokens or custom headers:"
   ]
  },
  {
   "cell_type": "code",
   "execution_count": 32,
   "id": "913a5a5a",
   "metadata": {},
   "outputs": [
    {
     "data": {
      "text/plain": [
       "{'User-Agent': 'python-requests/2.32.4', 'Accept-Encoding': 'gzip, deflate', 'Accept': '*/*', 'Connection': 'keep-alive', 'Authorization': 'Bearer <TOKEN>', 'Content-Length': '74', 'Content-Type': 'application/json'}"
      ]
     },
     "execution_count": 32,
     "metadata": {},
     "output_type": "execute_result"
    }
   ],
   "source": [
    "headers = {'Authorization': 'Bearer <TOKEN>'}\n",
    "response_customheader = requests.post(url, json=payload, headers=headers)\n",
    "\n",
    "response_customheader.request.headers"
   ]
  },
  {
   "cell_type": "markdown",
   "id": "6147a5e6",
   "metadata": {},
   "source": [
    "#### Handling Errors Gracefully"
   ]
  },
  {
   "cell_type": "code",
   "execution_count": 20,
   "id": "b4726cce",
   "metadata": {},
   "outputs": [
    {
     "name": "stdout",
     "output_type": "stream",
     "text": [
      "Success!\n"
     ]
    }
   ],
   "source": [
    "if response.status_code == 201:\n",
    "    print(\"Success!\")\n",
    "else:\n",
    "    print(f\"Something went wrong: {response.status_code}\")\n"
   ]
  },
  {
   "cell_type": "markdown",
   "id": "5edbafbb",
   "metadata": {},
   "source": [
    "#### Inspecting Requests\n"
   ]
  },
  {
   "cell_type": "code",
   "execution_count": 19,
   "id": "a66f61ba",
   "metadata": {},
   "outputs": [
    {
     "name": "stdout",
     "output_type": "stream",
     "text": [
      "POST\n",
      "https://jsonplaceholder.typicode.com/comments\n",
      "b'{\"title\": \"My API Journey\", \"body\": \"Learning to send data\", \"userId\": 99}'\n"
     ]
    }
   ],
   "source": [
    "print(response.request.method)\n",
    "print(response.request.url)\n",
    "print(response.request.body)"
   ]
  },
  {
   "cell_type": "markdown",
   "id": "33c18f7b",
   "metadata": {},
   "source": [
    "---"
   ]
  },
  {
   "cell_type": "markdown",
   "id": "d61b1f19",
   "metadata": {},
   "source": [
    "## 🧠 Summary:\n",
    "\n",
    "- `GET` → retrieve info\n",
    "- `POST` → send data\n",
    "- Use `json=` to send JSON (most modern APIs need it)\n",
    "- Status code `201` = Created\n",
    "- Understand headers sent and received"
   ]
  }
 ],
 "metadata": {
  "kernelspec": {
   "display_name": "stack_lp (3.12.5)",
   "language": "python",
   "name": "python3"
  },
  "language_info": {
   "codemirror_mode": {
    "name": "ipython",
    "version": 3
   },
   "file_extension": ".py",
   "mimetype": "text/x-python",
   "name": "python",
   "nbconvert_exporter": "python",
   "pygments_lexer": "ipython3",
   "version": "3.12.5"
  }
 },
 "nbformat": 4,
 "nbformat_minor": 5
}
