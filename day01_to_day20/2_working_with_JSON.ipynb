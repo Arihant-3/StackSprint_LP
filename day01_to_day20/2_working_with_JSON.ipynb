{
 "cells": [
  {
   "cell_type": "markdown",
   "id": "3ca661d1",
   "metadata": {},
   "source": [
    "# 📘 **Day 2: Working with JSON in Python**\n",
    "\n",
    "Let’s learn how to **load, parse, and write JSON** using Python — a critical skill for working with APIs and data pipelines."
   ]
  },
  {
   "cell_type": "markdown",
   "id": "a6df66d8",
   "metadata": {},
   "source": [
    "---"
   ]
  },
  {
   "cell_type": "markdown",
   "id": "8739455e",
   "metadata": {},
   "source": [
    "## 🧰 Key Python Tool: `json` module\n",
    "\n",
    "### ✨ Common Tasks with JSON in Python\n",
    "\n",
    "| Task | Function |\n",
    "| --- | --- |\n",
    "| Convert JSON string → Python object | `json.loads()` |\n",
    "| Convert Python object → JSON string | `json.dumps()` |\n",
    "| Read JSON file → Python | `json.load()` |\n",
    "| Write Python → JSON file | `json.dump()` |"
   ]
  },
  {
   "cell_type": "markdown",
   "id": "570320ab",
   "metadata": {},
   "source": [
    "---"
   ]
  },
  {
   "cell_type": "markdown",
   "id": "edb56dff",
   "metadata": {},
   "source": [
    "#### 🔄 Example 1: JSON string to Python dictionary"
   ]
  },
  {
   "cell_type": "code",
   "execution_count": 1,
   "id": "965042f0",
   "metadata": {},
   "outputs": [
    {
     "name": "stdout",
     "output_type": "stream",
     "text": [
      "Aryan\n",
      "Python\n"
     ]
    }
   ],
   "source": [
    "import json\n",
    "\n",
    "json_str = '{\"name\": \"Aryan\", \"age\": 20, \"skills\": [\"Python\", \"SQL\"]}'\n",
    "data = json.loads(json_str)\n",
    "\n",
    "print(data[\"name\"])  # Aryan\n",
    "print(data[\"skills\"][0])  # Python"
   ]
  },
  {
   "cell_type": "markdown",
   "id": "f0ef75e4",
   "metadata": {},
   "source": [
    "#### 🔁 Example 2: Python dict to JSON string"
   ]
  },
  {
   "cell_type": "code",
   "execution_count": 2,
   "id": "9592ae5f",
   "metadata": {},
   "outputs": [
    {
     "name": "stdout",
     "output_type": "stream",
     "text": [
      "{\n",
      "  \"name\": \"Aryan\",\n",
      "  \"age\": 21,\n",
      "  \"skills\": [\n",
      "    \"Power BI\",\n",
      "    \"Python\"\n",
      "  ],\n",
      "  \"wantsJob\": true\n",
      "}\n"
     ]
    }
   ],
   "source": [
    "person = {\n",
    "    \"name\": \"Aryan\",\n",
    "    \"age\": 21,\n",
    "    \"skills\": [\"Power BI\", \"Python\"],\n",
    "    \"wantsJob\": True\n",
    "}\n",
    "\n",
    "json_str = json.dumps(person, indent=2) # indent = 2 makes it pretty and readable\n",
    "print(json_str)\n"
   ]
  },
  {
   "cell_type": "markdown",
   "id": "28d4b86f",
   "metadata": {},
   "source": [
    "#### 📂 Example 3: Read/write from a .json file"
   ]
  },
  {
   "cell_type": "markdown",
   "id": "d21e7f16",
   "metadata": {},
   "source": [
    "##### ➕ Writing to file:"
   ]
  },
  {
   "cell_type": "code",
   "execution_count": 3,
   "id": "0058dba8",
   "metadata": {},
   "outputs": [],
   "source": [
    "with open(\"person.json\", \"w\") as f:\n",
    "    json.dump(person, f, indent=2)"
   ]
  },
  {
   "cell_type": "markdown",
   "id": "d3adcd15",
   "metadata": {},
   "source": [
    "##### 📖 Reading from file:"
   ]
  },
  {
   "cell_type": "code",
   "execution_count": 4,
   "id": "811247f0",
   "metadata": {},
   "outputs": [
    {
     "name": "stdout",
     "output_type": "stream",
     "text": [
      "['Power BI', 'Python']\n"
     ]
    }
   ],
   "source": [
    "with open(\"person.json\", \"r\") as f:\n",
    "    loaded_data = json.load(f)\n",
    "    \n",
    "print(loaded_data['skills'])"
   ]
  },
  {
   "cell_type": "markdown",
   "id": "ab55b6ac",
   "metadata": {},
   "source": [
    "#### ⬆️ Few more examples 📈:"
   ]
  },
  {
   "cell_type": "code",
   "execution_count": 5,
   "id": "195ca691",
   "metadata": {},
   "outputs": [
    {
     "name": "stdout",
     "output_type": "stream",
     "text": [
      "\"\\\"foo\\bar\"\n",
      "\"\\u1234\"\n",
      "\"\\\\\"\n",
      "{\"a\": 0, \"b\": 0, \"c\": 0}\n"
     ]
    },
    {
     "data": {
      "text/plain": [
       "'[\"streaming API\"]'"
      ]
     },
     "execution_count": 5,
     "metadata": {},
     "output_type": "execute_result"
    }
   ],
   "source": [
    "# Encoding basic Python object hierarchies:\n",
    "\n",
    "json.dumps(['foo', {'bar': ('baz', None, 1.0, 2)}])\n",
    "\n",
    "print(json.dumps(\"\\\"foo\\bar\"))\n",
    "\n",
    "print(json.dumps('\\u1234'))\n",
    "\n",
    "print(json.dumps('\\\\'))\n",
    "\n",
    "print(json.dumps({\"c\": 0, \"b\": 0, \"a\": 0}, sort_keys=True))\n",
    "\n",
    "from io import StringIO\n",
    "io = StringIO()\n",
    "json.dump(['streaming API'], io)\n",
    "io.getvalue()"
   ]
  },
  {
   "cell_type": "code",
   "execution_count": 6,
   "id": "d2eab534",
   "metadata": {},
   "outputs": [
    {
     "data": {
      "text/plain": [
       "'[1,2,3,{\"4\":5,\"6\":7}]'"
      ]
     },
     "execution_count": 6,
     "metadata": {},
     "output_type": "execute_result"
    }
   ],
   "source": [
    "# Compact encoding:\n",
    "# Without separator, o/p is '[1, 2, 3, {\"4\": 5, \"6\": 7}]'\n",
    "\n",
    "data_compact = json.dumps([1, 2, 3, {'4': 5, '6': 7}], separators=(',', ':'))\n",
    "\n",
    "data_compact"
   ]
  },
  {
   "cell_type": "code",
   "execution_count": 14,
   "id": "cd87ac65",
   "metadata": {},
   "outputs": [
    {
     "name": "stdout",
     "output_type": "stream",
     "text": [
      "{\n",
      "    \"4\": 5,\n",
      "    \"6\": 7\n",
      "}\n",
      "{\n",
      "    \"4\": 9,\n",
      "    \"6\": 7\n",
      "}\n"
     ]
    }
   ],
   "source": [
    "# Pretty printing:\n",
    "print(json.dumps({'6': 7, '4': 5}, sort_keys=True, indent=4))\n",
    "print(json.dumps({'6': 7, '4': 9}, sort_keys=True, indent=4))"
   ]
  },
  {
   "cell_type": "code",
   "execution_count": 8,
   "id": "7bfc0b42",
   "metadata": {},
   "outputs": [
    {
     "data": {
      "text/plain": [
       "'{\"__complex__\": true, \"real\": 1.0, \"imag\": 2.0}'"
      ]
     },
     "execution_count": 8,
     "metadata": {},
     "output_type": "execute_result"
    }
   ],
   "source": [
    "# Customizing JSON object encoding:\n",
    "\n",
    "def custom_json(obj):\n",
    "    if isinstance(obj, complex):\n",
    "        return {'__complex__': True, 'real': obj.real, 'imag': obj.imag}\n",
    "    raise TypeError(f'Cannot serialize object of {type(obj)}')\n",
    "\n",
    "json.dumps(1 + 2j, default=custom_json)"
   ]
  },
  {
   "cell_type": "code",
   "execution_count": 9,
   "id": "59d7c7e5",
   "metadata": {},
   "outputs": [
    {
     "name": "stdout",
     "output_type": "stream",
     "text": [
      "['foo', {'bar': ['baz', None, 1.0, 2]}]\n",
      "\"foar\n"
     ]
    },
    {
     "data": {
      "text/plain": [
       "['streaming API']"
      ]
     },
     "execution_count": 9,
     "metadata": {},
     "output_type": "execute_result"
    }
   ],
   "source": [
    "# Decoding JSON:\n",
    "\n",
    "print(json.loads('[\"foo\", {\"bar\":[\"baz\", null, 1.0, 2]}]'))\n",
    "\n",
    "print(json.loads('\"\\\\\"foo\\\\bar\"'))\n",
    "\n",
    "from io import StringIO\n",
    "io = StringIO('[\"streaming API\"]')\n",
    "json.load(io)"
   ]
  },
  {
   "cell_type": "code",
   "execution_count": 10,
   "id": "9c144ecc",
   "metadata": {},
   "outputs": [
    {
     "name": "stdout",
     "output_type": "stream",
     "text": [
      "(1+2j)\n"
     ]
    },
    {
     "data": {
      "text/plain": [
       "Decimal('1.1')"
      ]
     },
     "execution_count": 10,
     "metadata": {},
     "output_type": "execute_result"
    }
   ],
   "source": [
    "# Customizing JSON object decoding:\n",
    "\n",
    "import json\n",
    "def as_complex(dct):\n",
    "    if '__complex__' in dct:\n",
    "        return complex(dct['real'], dct['imag'])\n",
    "    return dct\n",
    "\n",
    "data_complex = json.loads('{\"__complex__\": true, \"real\": 1, \"imag\": 2}',\n",
    "    object_hook=as_complex)\n",
    "\n",
    "print(data_complex)\n",
    "\n",
    "import decimal\n",
    "json.loads('1.1', parse_float=decimal.Decimal)"
   ]
  },
  {
   "cell_type": "code",
   "execution_count": 11,
   "id": "cb17f624",
   "metadata": {},
   "outputs": [
    {
     "name": "stdout",
     "output_type": "stream",
     "text": [
      "[2.0, 1.0]\n",
      "[2.0, 1.0]\n"
     ]
    },
    {
     "data": {
      "text/plain": [
       "['[2.0', ', 1.0', ']']"
      ]
     },
     "execution_count": 11,
     "metadata": {},
     "output_type": "execute_result"
    }
   ],
   "source": [
    "# Extending JSONEncoder:\n",
    "\n",
    "class ComplexEncoder(json.JSONEncoder):\n",
    "    def default(self, obj):\n",
    "        if isinstance(obj, complex):\n",
    "            return [obj.real, obj.imag]\n",
    "        # Let the base class default method raise the TypeError\n",
    "        return super().default(obj)\n",
    "\n",
    "print(json.dumps(2 + 1j, cls=ComplexEncoder))\n",
    "print(ComplexEncoder().encode(2 + 1j))\n",
    "\n",
    "list(ComplexEncoder().iterencode(2 + 1j))"
   ]
  },
  {
   "cell_type": "markdown",
   "id": "eea44939",
   "metadata": {},
   "source": [
    "---"
   ]
  },
  {
   "cell_type": "markdown",
   "id": "f272e3be",
   "metadata": {},
   "source": [
    "### 🎯 Real-world Use Case:\n",
    "\n",
    "✅ Parsing API responses (e.g., GitHub API returns JSON)\n",
    "\n",
    "✅ Saving app/user data\n",
    "\n",
    "✅ Sharing structured data across systems"
   ]
  },
  {
   "cell_type": "markdown",
   "id": "24ac5633",
   "metadata": {},
   "source": [
    "---"
   ]
  },
  {
   "cell_type": "markdown",
   "id": "3ccfa534",
   "metadata": {},
   "source": [
    "### Task :"
   ]
  },
  {
   "cell_type": "code",
   "execution_count": 12,
   "id": "4a2b788d",
   "metadata": {},
   "outputs": [],
   "source": [
    "detail = {\n",
    "    'name' : 'Aryan',\n",
    "    'age' : 20,\n",
    "    'interest' : ['A', 'B', 'C'],\n",
    "    'socials' : {'github': 'www.github.com', 'Linkedln' : 'www.linkedln.com'}\n",
    "}\n",
    "\n",
    "with open(\"me.json\", \"w\") as f:\n",
    "    json.dump(detail, f, indent=2)\n"
   ]
  },
  {
   "cell_type": "code",
   "execution_count": 15,
   "id": "ecb2bb87",
   "metadata": {},
   "outputs": [
    {
     "name": "stdout",
     "output_type": "stream",
     "text": [
      "Aryan\n",
      "A\n",
      "www.github.com\n"
     ]
    }
   ],
   "source": [
    "with open(\"me.json\", \"r\") as f:\n",
    "    detail_loaded = json.load(f)\n",
    "\n",
    "print(detail_loaded['name'])\n",
    "print(detail_loaded['interest'][0])\n",
    "print(detail_loaded['socials']['github'])"
   ]
  },
  {
   "cell_type": "markdown",
   "id": "96bc21cf",
   "metadata": {},
   "source": [
    "---"
   ]
  },
  {
   "cell_type": "markdown",
   "id": "e70d216d",
   "metadata": {},
   "source": [
    "### 📝 Summary\n",
    "\n",
    "- Use `json.loads()` to parse JSON strings\n",
    "- Use `json.dumps()` to convert Python objects to JSON\n",
    "- Use `json.load()`/`json.dump()` to work with JSON files\n",
    "- This is foundational for API work and automation"
   ]
  },
  {
   "cell_type": "markdown",
   "id": "3cefd631",
   "metadata": {},
   "source": [
    "---"
   ]
  },
  {
   "cell_type": "markdown",
   "id": "cc1000e8",
   "metadata": {},
   "source": [
    "Credit - https://docs.python.org/3/library/json.html"
   ]
  }
 ],
 "metadata": {
  "kernelspec": {
   "display_name": "stack_lp (3.12.5)",
   "language": "python",
   "name": "python3"
  },
  "language_info": {
   "codemirror_mode": {
    "name": "ipython",
    "version": 3
   },
   "file_extension": ".py",
   "mimetype": "text/x-python",
   "name": "python",
   "nbconvert_exporter": "python",
   "pygments_lexer": "ipython3",
   "version": "3.12.5"
  }
 },
 "nbformat": 4,
 "nbformat_minor": 5
}
